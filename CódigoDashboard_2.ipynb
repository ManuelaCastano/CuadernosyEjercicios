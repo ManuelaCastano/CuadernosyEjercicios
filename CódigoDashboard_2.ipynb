{
  "nbformat": 4,
  "nbformat_minor": 0,
  "metadata": {
    "colab": {
      "provenance": [],
      "include_colab_link": true
    },
    "kernelspec": {
      "name": "python3",
      "display_name": "Python 3"
    },
    "language_info": {
      "name": "python"
    }
  },
  "cells": [
    {
      "cell_type": "markdown",
      "metadata": {
        "id": "view-in-github",
        "colab_type": "text"
      },
      "source": [
        "<a href=\"https://colab.research.google.com/github/ManuelaCastano/CuadernosyEjercicios/blob/main/C%C3%B3digoDashboard_2.ipynb\" target=\"_parent\"><img src=\"https://colab.research.google.com/assets/colab-badge.svg\" alt=\"Open In Colab\"/></a>"
      ]
    },
    {
      "cell_type": "markdown",
      "source": [
        "# CÓDIGO DEL DASHBOARD"
      ],
      "metadata": {
        "id": "ZjOo12v6YaZf"
      }
    },
    {
      "cell_type": "code",
      "execution_count": null,
      "metadata": {
        "id": "GT66-7B8qhi2",
        "colab": {
          "base_uri": "https://localhost:8080/"
        },
        "outputId": "8d73ecd8-d2bf-41fa-c06a-17b66cf0b445"
      },
      "outputs": [
        {
          "output_type": "stream",
          "name": "stdout",
          "text": [
            "Requirement already satisfied: pyngrok in /usr/local/lib/python3.10/dist-packages (7.2.0)\n",
            "Requirement already satisfied: PyYAML>=5.1 in /usr/local/lib/python3.10/dist-packages (from pyngrok) (6.0.2)\n"
          ]
        }
      ],
      "source": [
        "!pip install streamlit -q #instalación de librerías\n",
        "!pip install pyngrok"
      ]
    },
    {
      "cell_type": "code",
      "source": [
        "!python3 -m pip install --force-reinstall https://github.com/yt-dlp/yt-dlp/archive/master.tar.gz\n",
        "!pip install soundfile #librerias descarga Youtube y manejo de audios en python"
      ],
      "metadata": {
        "colab": {
          "base_uri": "https://localhost:8080/"
        },
        "id": "QNwXqvQzYpFJ",
        "outputId": "9ea44f90-3345-4b7f-8046-c1bd751af574"
      },
      "execution_count": null,
      "outputs": [
        {
          "output_type": "stream",
          "name": "stdout",
          "text": [
            "Collecting https://github.com/yt-dlp/yt-dlp/archive/master.tar.gz\n",
            "  Using cached https://github.com/yt-dlp/yt-dlp/archive/master.tar.gz\n",
            "  Installing build dependencies ... \u001b[?25l\u001b[?25hdone\n",
            "  Getting requirements to build wheel ... \u001b[?25l\u001b[?25hdone\n",
            "  Preparing metadata (pyproject.toml) ... \u001b[?25l\u001b[?25hdone\n",
            "Collecting brotli (from yt-dlp==2024.8.6)\n",
            "  Using cached Brotli-1.1.0-cp310-cp310-manylinux_2_5_x86_64.manylinux1_x86_64.manylinux_2_12_x86_64.manylinux2010_x86_64.whl.metadata (5.5 kB)\n",
            "Collecting certifi (from yt-dlp==2024.8.6)\n",
            "  Using cached certifi-2024.8.30-py3-none-any.whl.metadata (2.2 kB)\n",
            "Collecting mutagen (from yt-dlp==2024.8.6)\n",
            "  Using cached mutagen-1.47.0-py3-none-any.whl.metadata (1.7 kB)\n",
            "Collecting pycryptodomex (from yt-dlp==2024.8.6)\n",
            "  Using cached pycryptodomex-3.20.0-cp35-abi3-manylinux_2_17_x86_64.manylinux2014_x86_64.whl.metadata (3.4 kB)\n",
            "Collecting requests<3,>=2.32.2 (from yt-dlp==2024.8.6)\n",
            "  Using cached requests-2.32.3-py3-none-any.whl.metadata (4.6 kB)\n",
            "Collecting urllib3<3,>=1.26.17 (from yt-dlp==2024.8.6)\n",
            "  Using cached urllib3-2.2.2-py3-none-any.whl.metadata (6.4 kB)\n",
            "Collecting websockets>=13.0 (from yt-dlp==2024.8.6)\n",
            "  Using cached websockets-13.0.1-cp310-cp310-manylinux_2_5_x86_64.manylinux1_x86_64.manylinux_2_17_x86_64.manylinux2014_x86_64.whl.metadata (6.7 kB)\n",
            "Collecting charset-normalizer<4,>=2 (from requests<3,>=2.32.2->yt-dlp==2024.8.6)\n",
            "  Using cached charset_normalizer-3.3.2-cp310-cp310-manylinux_2_17_x86_64.manylinux2014_x86_64.whl.metadata (33 kB)\n",
            "Collecting idna<4,>=2.5 (from requests<3,>=2.32.2->yt-dlp==2024.8.6)\n",
            "  Using cached idna-3.8-py3-none-any.whl.metadata (9.9 kB)\n",
            "Using cached requests-2.32.3-py3-none-any.whl (64 kB)\n",
            "Using cached certifi-2024.8.30-py3-none-any.whl (167 kB)\n",
            "Using cached urllib3-2.2.2-py3-none-any.whl (121 kB)\n",
            "Using cached websockets-13.0.1-cp310-cp310-manylinux_2_5_x86_64.manylinux1_x86_64.manylinux_2_17_x86_64.manylinux2014_x86_64.whl (157 kB)\n",
            "Using cached Brotli-1.1.0-cp310-cp310-manylinux_2_5_x86_64.manylinux1_x86_64.manylinux_2_12_x86_64.manylinux2010_x86_64.whl (3.0 MB)\n",
            "Using cached mutagen-1.47.0-py3-none-any.whl (194 kB)\n",
            "Using cached pycryptodomex-3.20.0-cp35-abi3-manylinux_2_17_x86_64.manylinux2014_x86_64.whl (2.1 MB)\n",
            "Using cached charset_normalizer-3.3.2-cp310-cp310-manylinux_2_17_x86_64.manylinux2014_x86_64.whl (142 kB)\n",
            "Using cached idna-3.8-py3-none-any.whl (66 kB)\n",
            "Building wheels for collected packages: yt-dlp\n",
            "  Building wheel for yt-dlp (pyproject.toml) ... \u001b[?25l\u001b[?25hdone\n",
            "  Created wheel for yt-dlp: filename=yt_dlp-2024.8.6-py3-none-any.whl size=2883048 sha256=b5bcd2087f011d0212af8d9c7068919db410fa911f8860868db7f1e9fbff3016\n",
            "  Stored in directory: /tmp/pip-ephem-wheel-cache-pbcjpnoz/wheels/4c/91/d1/c5369304e2f7afb660bb6eee093af5a7d3c0ea05a3c1e8c797\n",
            "Successfully built yt-dlp\n",
            "Installing collected packages: brotli, websockets, urllib3, pycryptodomex, mutagen, idna, charset-normalizer, certifi, requests, yt-dlp\n",
            "  Attempting uninstall: brotli\n",
            "    Found existing installation: Brotli 1.1.0\n",
            "    Uninstalling Brotli-1.1.0:\n",
            "      Successfully uninstalled Brotli-1.1.0\n",
            "  Attempting uninstall: websockets\n",
            "    Found existing installation: websockets 13.0.1\n",
            "    Uninstalling websockets-13.0.1:\n",
            "      Successfully uninstalled websockets-13.0.1\n",
            "  Attempting uninstall: urllib3\n",
            "    Found existing installation: urllib3 2.2.2\n",
            "    Uninstalling urllib3-2.2.2:\n",
            "      Successfully uninstalled urllib3-2.2.2\n",
            "  Attempting uninstall: pycryptodomex\n",
            "    Found existing installation: pycryptodomex 3.20.0\n",
            "    Uninstalling pycryptodomex-3.20.0:\n",
            "      Successfully uninstalled pycryptodomex-3.20.0\n",
            "  Attempting uninstall: mutagen\n",
            "    Found existing installation: mutagen 1.47.0\n",
            "    Uninstalling mutagen-1.47.0:\n",
            "      Successfully uninstalled mutagen-1.47.0\n",
            "  Attempting uninstall: idna\n",
            "    Found existing installation: idna 3.8\n",
            "    Uninstalling idna-3.8:\n",
            "      Successfully uninstalled idna-3.8\n",
            "  Attempting uninstall: charset-normalizer\n",
            "    Found existing installation: charset-normalizer 3.3.2\n",
            "    Uninstalling charset-normalizer-3.3.2:\n",
            "      Successfully uninstalled charset-normalizer-3.3.2\n",
            "  Attempting uninstall: certifi\n",
            "    Found existing installation: certifi 2024.8.30\n",
            "    Uninstalling certifi-2024.8.30:\n",
            "      Successfully uninstalled certifi-2024.8.30\n",
            "  Attempting uninstall: requests\n",
            "    Found existing installation: requests 2.32.3\n",
            "    Uninstalling requests-2.32.3:\n",
            "      Successfully uninstalled requests-2.32.3\n",
            "  Attempting uninstall: yt-dlp\n",
            "    Found existing installation: yt-dlp 2024.8.6\n",
            "    Uninstalling yt-dlp-2024.8.6:\n",
            "      Successfully uninstalled yt-dlp-2024.8.6\n",
            "Successfully installed brotli-1.1.0 certifi-2024.8.30 charset-normalizer-3.3.2 idna-3.8 mutagen-1.47.0 pycryptodomex-3.20.0 requests-2.32.3 urllib3-2.2.2 websockets-13.0.1 yt-dlp-2024.8.6\n",
            "Requirement already satisfied: soundfile in /usr/local/lib/python3.10/dist-packages (0.12.1)\n",
            "Requirement already satisfied: cffi>=1.0 in /usr/local/lib/python3.10/dist-packages (from soundfile) (1.17.0)\n",
            "Requirement already satisfied: pycparser in /usr/local/lib/python3.10/dist-packages (from cffi>=1.0->soundfile) (2.22)\n"
          ]
        }
      ]
    },
    {
      "cell_type": "code",
      "source": [
        "!pip install pydub #instalamos pydub para manipular el audio"
      ],
      "metadata": {
        "colab": {
          "base_uri": "https://localhost:8080/"
        },
        "id": "Hu_vkA7jYsXT",
        "outputId": "c283c691-e106-44aa-d4c3-4a2dbf26d18c"
      },
      "execution_count": null,
      "outputs": [
        {
          "output_type": "stream",
          "name": "stdout",
          "text": [
            "Requirement already satisfied: pydub in /usr/local/lib/python3.10/dist-packages (0.25.1)\n"
          ]
        }
      ]
    },
    {
      "cell_type": "code",
      "source": [
        "\"\"\"%%writefile Parcial2.py\n",
        "\n",
        "#GRAFICAS CON ST.PYPLOT\n",
        "\n",
        "import streamlit as st  # permite crear aplicaciones web interactivas directamente desde Python\n",
        "import pandas as pd\n",
        "import numpy as np\n",
        "import os\n",
        "import subprocess\n",
        "import soundfile as sf\n",
        "from sklearn.preprocessing import MinMaxScaler\n",
        "from sklearn.manifold import TSNE\n",
        "from pyngrok import ngrok\n",
        "import yt_dlp as youtube_dl\n",
        "import joblib\n",
        "\n",
        "from scipy.fft import fft, fftfreq\n",
        "from IPython.display import Audio\n",
        "from pydub import AudioSegment\n",
        "import io\n",
        "\n",
        "# Intentar importar yt_dlp y manejar la falta de instalación\n",
        "try:\n",
        "    import yt_dlp\n",
        "except ImportError:\n",
        "    st.error(\"El módulo 'yt_dlp' no está instalado. Por favor, instálalo usando 'pip install yt-dlp'.\")\n",
        "    st.stop()  # Detener la ejecución si no se puede importar yt_dlp\n",
        "\n",
        "# Descargar el audio de YouTube y convertir a WAV\n",
        "def descargar_audio_youtube(url):\n",
        "    ydl_opts = {\n",
        "        'format': 'bestaudio[ext=m4a]',\n",
        "        'outtmpl': 'audio.m4a'\n",
        "    }\n",
        "\n",
        "    with yt_dlp.YoutubeDL(ydl_opts) as ydl:\n",
        "        ydl.download([url])\n",
        "\n",
        "    # Convertir a WAV\n",
        "    audio = AudioSegment.from_file(\"audio.m4a\", format=\"m4a\")\n",
        "    audio.export(\"audio.wav\", format=\"wav\")\n",
        "    os.remove(\"audio.m4a\")  # Limpiar el archivo m4a temporal\n",
        "\n",
        "# Cargar el archivo de audio\n",
        "def cargar_audio(filename):\n",
        "    try:\n",
        "        data, sample_rate = sf.read(filename)\n",
        "        return sample_rate, data\n",
        "    except FileNotFoundError:\n",
        "        st.error(f\"No se encontró el archivo {filename}. Asegúrate de que el archivo exista y esté en la ubicación correcta.\")\n",
        "        return None, None\n",
        "\n",
        "# Convertir audio estéreo a mono\n",
        "def convertir_a_mono(data):\n",
        "    if len(data.shape) > 1:  # Si es estéreo\n",
        "        return np.mean(data, axis=1)\n",
        "    return data\n",
        "\n",
        "# Graficar la señal en el tiempo usando Streamlit\n",
        "def graficar_senal_tiempo_st(t, signal, title):\n",
        "    st.line_chart(pd.DataFrame({'Tiempo': t, 'Amplitud': signal}))\n",
        "\n",
        "# Graficar la transformada de Fourier usando Streamlit\n",
        "def graficar_fft_st(t, signal, title):\n",
        "    N = len(signal)\n",
        "    T = t[1] - t[0]\n",
        "    yf = fft(signal)\n",
        "    xf = fftfreq(N, T)[:N // 2]\n",
        "\n",
        "    st.line_chart(pd.DataFrame({'Frecuencia [Hz]': xf, 'Magnitud': np.abs(yf[0:N // 2])}))\n",
        "\n",
        "# Función principal de la app Streamlit\n",
        "def main():\n",
        "    st.title('Simulación de Modulación por Amplitud (AM)')\n",
        "\n",
        "    url = st.text_input(\"Introduce el enlace del video de YouTube\")\n",
        "\n",
        "    if url:\n",
        "        st.write(\"Descargando audio de YouTube...\")\n",
        "        descargar_audio_youtube(url)\n",
        "\n",
        "        # Cargar el archivo de audio convertido\n",
        "        sample_rate, data = cargar_audio(\"audio.wav\")\n",
        "        if data is None:\n",
        "            return  # Salir si el archivo no se encuentra\n",
        "\n",
        "        # Convertir a mono si es estéreo\n",
        "        data_segment = convertir_a_mono(data)\n",
        "\n",
        "        # Leer un fragmento de 5 segundos del archivo de audio\n",
        "        ti = 20  # tiempo de inicio en segundos\n",
        "        tf = 25   # tiempo final en segundos\n",
        "        data_segment = data_segment[int(ti * sample_rate):int(tf * sample_rate)]\n",
        "\n",
        "        # Tiempo de la señal\n",
        "        t = np.arange(len(data_segment)) / sample_rate\n",
        "\n",
        "        # Mostrar la señal de audio original\n",
        "        st.subheader('Señal de Audio Original')\n",
        "        graficar_senal_tiempo_st(t, data_segment, 'Señal de Audio en el Tiempo')\n",
        "\n",
        "        # Transformada de Fourier de la señal de audio\n",
        "        st.subheader('Transformada de Fourier de la Señal de Audio')\n",
        "        graficar_fft_st(t, data_segment, 'Espectro de la Señal de Audio')\n",
        "\n",
        "        # Parámetros de la portadora\n",
        "        Fc = st.number_input('Frecuencia de la portadora (Hz)', value=15000)\n",
        "        Im = st.slider('Índice de Modulación', 0.0, 1.0, 0.5)\n",
        "\n",
        "        # Cálculo de la señal portadora y modulada\n",
        "        Ac = np.max(np.abs(data_segment)) / Im\n",
        "        c = Ac * np.sin(2 * np.pi * Fc * t)\n",
        "        y = (1 + Im * data_segment / Ac) * c\n",
        "\n",
        "        # Mostrar la señal portadora\n",
        "        st.subheader('Señal Portadora')\n",
        "        graficar_senal_tiempo_st(t, c, 'Señal Portadora en el Tiempo')\n",
        "\n",
        "        # Transformada de Fourier de la señal portadora\n",
        "        st.subheader('Transformada de Fourier de la Señal Portadora')\n",
        "        graficar_fft_st(t, c, 'Espectro de la Señal Portadora')\n",
        "\n",
        "        # Mostrar la señal modulada\n",
        "        st.subheader('Señal Moduladora AM')\n",
        "        graficar_senal_tiempo_st(t, y, 'Señal Moduladora AM en el Tiempo')\n",
        "\n",
        "        # Transformada de Fourier de la señal modulada\n",
        "        st.subheader('Transformada de Fourier de la Señal Modulada')\n",
        "        graficar_fft_st(t, y, 'Espectro de la Señal Modulada')\n",
        "\n",
        "        # Reproducción de audio\n",
        "        st.subheader('Reproducción de Audio')\n",
        "\n",
        "        # Convertir el segmento de datos a WAV en un buffer de BytesIO\n",
        "        wav_buffer = io.BytesIO()\n",
        "        sf.write(wav_buffer, data_segment, sample_rate, format='wav')\n",
        "        wav_buffer.seek(0)  # Reiniciar el puntero del buffer\n",
        "\n",
        "        st.audio(wav_buffer, format='audio/wav')\n",
        "\n",
        "        os.remove(\"audio.wav\")\n",
        "\n",
        "if __name__ == \"__main__\":\n",
        "    main()\"\"\"\n"
      ],
      "metadata": {
        "colab": {
          "base_uri": "https://localhost:8080/",
          "height": 123
        },
        "id": "ewf2QibgYyd_",
        "outputId": "b44e7ccd-94cb-423d-caa1-62be1b8eaf1c"
      },
      "execution_count": null,
      "outputs": [
        {
          "output_type": "execute_result",
          "data": {
            "text/plain": [
              "'%%writefile Parcial2.py\\n\\nimport streamlit as st  # permite crear aplicaciones web interactivas directamente desde Python\\nimport pandas as pd\\nimport numpy as np\\nimport os\\nimport subprocess\\nimport soundfile as sf\\nfrom sklearn.preprocessing import MinMaxScaler\\nfrom sklearn.manifold import TSNE\\nfrom pyngrok import ngrok\\nimport yt_dlp as youtube_dl\\nimport joblib\\n\\nfrom scipy.fft import fft, fftfreq\\nfrom IPython.display import Audio\\nfrom pydub import AudioSegment\\nimport io\\n\\n# Intentar importar yt_dlp y manejar la falta de instalación\\ntry:\\n    import yt_dlp\\nexcept ImportError:\\n    st.error(\"El módulo \\'yt_dlp\\' no está instalado. Por favor, instálalo usando \\'pip install yt-dlp\\'.\")\\n    st.stop()  # Detener la ejecución si no se puede importar yt_dlp\\n\\n# Descargar el audio de YouTube y convertir a WAV\\ndef descargar_audio_youtube(url):\\n    ydl_opts = {\\n        \\'format\\': \\'bestaudio[ext=m4a]\\',\\n        \\'outtmpl\\': \\'audio.m4a\\'\\n    }\\n\\n    with yt_dlp.YoutubeDL(ydl_opts) as ydl:\\n        ydl.download([url])\\n\\n    # Convertir a WAV\\n    audio = AudioSegment.from_file(\"audio.m4a\", format=\"m4a\")\\n    audio.export(\"audio.wav\", format=\"wav\")\\n    os.remove(\"audio.m4a\")  # Limpiar el archivo m4a temporal\\n\\n# Cargar el archivo de audio\\ndef cargar_audio(filename):\\n    try:\\n        data, sample_rate = sf.read(filename)\\n        return sample_rate, data\\n    except FileNotFoundError:\\n        st.error(f\"No se encontró el archivo {filename}. Asegúrate de que el archivo exista y esté en la ubicación correcta.\")\\n        return None, None\\n\\n# Convertir audio estéreo a mono\\ndef convertir_a_mono(data):\\n    if len(data.shape) > 1:  # Si es estéreo\\n        return np.mean(data, axis=1)\\n    return data\\n\\n# Graficar la señal en el tiempo usando Streamlit\\ndef graficar_senal_tiempo_st(t, signal, title):\\n    st.line_chart(pd.DataFrame({\\'Tiempo\\': t, \\'Amplitud\\': signal}))\\n\\n# Graficar la transformada de Fourier usando Streamlit\\ndef graficar_fft_st(t, signal, title):\\n    N = len(signal)\\n    T = t[1] - t[0]\\n    yf = fft(signal)\\n    xf = fftfreq(N, T)[:N // 2]\\n\\n    st.line_chart(pd.DataFrame({\\'Frecuencia [Hz]\\': xf, \\'Magnitud\\': np.abs(yf[0:N // 2])}))\\n\\n# Función principal de la app Streamlit\\ndef main():\\n    st.title(\\'Simulación de Modulación por Amplitud (AM)\\')\\n\\n    url = st.text_input(\"Introduce el enlace del video de YouTube\")\\n\\n    if url:\\n        st.write(\"Descargando audio de YouTube...\")\\n        descargar_audio_youtube(url)\\n\\n        # Cargar el archivo de audio convertido\\n        sample_rate, data = cargar_audio(\"audio.wav\")\\n        if data is None:\\n            return  # Salir si el archivo no se encuentra\\n\\n        # Convertir a mono si es estéreo\\n        data_segment = convertir_a_mono(data)\\n\\n        # Leer un fragmento de 5 segundos del archivo de audio\\n        ti = 20  # tiempo de inicio en segundos\\n        tf = 25   # tiempo final en segundos\\n        data_segment = data_segment[int(ti * sample_rate):int(tf * sample_rate)]\\n\\n        # Tiempo de la señal\\n        t = np.arange(len(data_segment)) / sample_rate\\n\\n        # Mostrar la señal de audio original\\n        st.subheader(\\'Señal de Audio Original\\')\\n        graficar_senal_tiempo_st(t, data_segment, \\'Señal de Audio en el Tiempo\\')\\n\\n        # Transformada de Fourier de la señal de audio\\n        st.subheader(\\'Transformada de Fourier de la Señal de Audio\\')\\n        graficar_fft_st(t, data_segment, \\'Espectro de la Señal de Audio\\')\\n\\n        # Parámetros de la portadora\\n        Fc = st.number_input(\\'Frecuencia de la portadora (Hz)\\', value=15000)\\n        Im = st.slider(\\'Índice de Modulación\\', 0.0, 1.0, 0.5)\\n\\n        # Cálculo de la señal portadora y modulada\\n        Ac = np.max(np.abs(data_segment)) / Im\\n        c = Ac * np.sin(2 * np.pi * Fc * t)\\n        y = (1 + Im * data_segment / Ac) * c\\n\\n        # Mostrar la señal portadora\\n        st.subheader(\\'Señal Portadora\\')\\n        graficar_senal_tiempo_st(t, c, \\'Señal Portadora en el Tiempo\\')\\n\\n        # Transformada de Fourier de la señal portadora\\n        st.subheader(\\'Transformada de Fourier de la Señal Portadora\\')\\n        graficar_fft_st(t, c, \\'Espectro de la Señal Portadora\\')\\n\\n        # Mostrar la señal modulada\\n        st.subheader(\\'Señal Moduladora AM\\')\\n        graficar_senal_tiempo_st(t, y, \\'Señal Moduladora AM en el Tiempo\\')\\n\\n        # Transformada de Fourier de la señal modulada\\n        st.subheader(\\'Transformada de Fourier de la Señal Modulada\\')\\n        graficar_fft_st(t, y, \\'Espectro de la Señal Modulada\\')\\n\\n        # Reproducción de audio\\n        st.subheader(\\'Reproducción de Audio\\')\\n\\n        # Convertir el segmento de datos a WAV en un buffer de BytesIO\\n        wav_buffer = io.BytesIO()\\n        sf.write(wav_buffer, data_segment, sample_rate, format=\\'wav\\')\\n        wav_buffer.seek(0)  # Reiniciar el puntero del buffer\\n\\n        st.audio(wav_buffer, format=\\'audio/wav\\')\\n\\n        os.remove(\"audio.wav\")\\n\\nif __name__ == \"__main__\":\\n    main()'"
            ],
            "application/vnd.google.colaboratory.intrinsic+json": {
              "type": "string"
            }
          },
          "metadata": {},
          "execution_count": 35
        }
      ]
    },
    {
      "cell_type": "code",
      "source": [
        "%%writefile Modulacion.py\n",
        "\n",
        "import streamlit as st #permite crear aplicaciones web interactivas directamente desde Python\n",
        "import pandas as pd\n",
        "import numpy as np\n",
        "import os\n",
        "import subprocess\n",
        "import soundfile as sf\n",
        "import matplotlib.pyplot as plt\n",
        "from sklearn.preprocessing import MinMaxScaler\n",
        "from sklearn.manifold import TSNE\n",
        "from pyngrok import ngrok\n",
        "import yt_dlp as youtube_dl\n",
        "import joblib\n",
        "\n",
        "from scipy.fft import fft, fftfreq\n",
        "from IPython.display import Audio\n",
        "from pydub import AudioSegment\n",
        "import io\n",
        "\n",
        "# Intentar importar yt_dlp y manejar la falta de instalación\n",
        "try:\n",
        "    import yt_dlp\n",
        "except ImportError:\n",
        "    st.error(\"El módulo 'yt_dlp' no está instalado. Por favor, instálalo usando 'pip install yt-dlp'.\")\n",
        "    st.stop()  # Detener la ejecución si no se puede importar yt_dlp\n",
        "\n",
        "# Descargar el audio de YouTube y convertir a WAV\n",
        "def descargar_audio_youtube(url):\n",
        "    ydl_opts = {\n",
        "        'format': 'bestaudio[ext=m4a]',\n",
        "        'outtmpl': 'audio.m4a'\n",
        "    }\n",
        "\n",
        "    with yt_dlp.YoutubeDL(ydl_opts) as ydl:\n",
        "        ydl.download([url])\n",
        "\n",
        "    # Convertir a WAV\n",
        "    audio = AudioSegment.from_file(\"audio.m4a\", format=\"m4a\")\n",
        "    audio.export(\"audio.wav\", format=\"wav\")\n",
        "    os.remove(\"audio.m4a\")  # Limpiar el archivo m4a temporal\n",
        "\n",
        "# Cargar el archivo de audio\n",
        "def cargar_audio(filename):\n",
        "    try:\n",
        "        data, sample_rate = sf.read(filename)\n",
        "        return sample_rate, data\n",
        "    except FileNotFoundError:\n",
        "        st.error(f\"No se encontró el archivo {filename}. Asegúrate de que el archivo exista y esté en la ubicación correcta.\")\n",
        "        return None, None\n",
        "\n",
        "# Convertir audio estéreo a mono\n",
        "def convertir_a_mono(data):\n",
        "    if len(data.shape) > 1:  # Si es estéreo\n",
        "        return np.mean(data, axis=1)\n",
        "    return data\n",
        "\n",
        "# Graficar la señal en el tiempo\n",
        "def graficar_senal_tiempo(t, signal, title, xlabel, ylabel):\n",
        "    plt.figure(figsize=(10, 4))\n",
        "    plt.plot(t, signal)\n",
        "    plt.title(title)\n",
        "    plt.xlabel(xlabel)\n",
        "    plt.ylabel(ylabel)\n",
        "    plt.grid()\n",
        "    st.pyplot()\n",
        "\n",
        "# Graficar la transformada de Fourier\n",
        "def graficar_fft(t, signal, title):\n",
        "    N = len(signal)\n",
        "    T = t[1] - t[0]\n",
        "    yf = fft(signal)\n",
        "    xf = fftfreq(N, T)[:N // 2]\n",
        "\n",
        "    plt.figure(figsize=(10, 4))\n",
        "    plt.plot(xf, np.abs(yf[0:N // 2]))\n",
        "    plt.title(title)\n",
        "    plt.xlabel('Frecuencia [Hz]')\n",
        "    plt.ylabel('Magnitud')\n",
        "    plt.grid()\n",
        "    st.pyplot()\n",
        "\n",
        "# Función principal de la app Streamlit\n",
        "def main():\n",
        "    st.title('Simulación de Modulación por Amplitud (AM)')\n",
        "\n",
        "    url = st.text_input(\"Introduce el enlace del video de YouTube\")\n",
        "\n",
        "    if url:\n",
        "        st.write(\"Descargando audio de YouTube...\")\n",
        "        descargar_audio_youtube(url)\n",
        "\n",
        "        # Cargar el archivo de audio convertido\n",
        "        sample_rate, data = cargar_audio(\"audio.wav\")\n",
        "        if data is None:\n",
        "            return  # Salir si el archivo no se encuentra\n",
        "\n",
        "        # Convertir a mono si es estéreo\n",
        "        data_segment = convertir_a_mono(data)\n",
        "\n",
        "        # Leer un fragmento de 5 segundos del archivo de audio\n",
        "        ti = 20  # tiempo de inicio en segundos\n",
        "        tf = 25   # tiempo final en segundos\n",
        "        data_segment = data_segment[int(ti * sample_rate):int(tf * sample_rate)]\n",
        "\n",
        "        # Tiempo de la señal\n",
        "        t = np.arange(len(data_segment)) / sample_rate\n",
        "\n",
        "        # Mostrar la señal de audio original\n",
        "        st.subheader('Señal de Audio Original')\n",
        "        graficar_senal_tiempo(t, data_segment, 'Señal de Audio en el Tiempo', 'Tiempo [s]', 'Amplitud')\n",
        "\n",
        "        # Transformada de Fourier de la señal de audio\n",
        "        st.subheader('Transformada de Fourier de la Señal de Audio')\n",
        "        graficar_fft(t, data_segment, 'Espectro de la Señal de Audio')\n",
        "\n",
        "        # Parámetros de la portadora\n",
        "        Fc = st.number_input('Frecuencia de la portadora (Hz)', value=15000)\n",
        "        Im = st.slider('Índice de Modulación', 0.0, 1.0, 0.5)\n",
        "\n",
        "        # Cálculo de la señal portadora y modulada\n",
        "        Ac = np.max(np.abs(data_segment)) / Im\n",
        "        c = Ac * np.sin(2 * np.pi * Fc * t)\n",
        "        y = (1 + Im * data_segment / Ac) * c\n",
        "\n",
        "        # Mostrar la señal portadora\n",
        "        st.subheader('Señal Portadora')\n",
        "        graficar_senal_tiempo(t, c, 'Señal Portadora en el Tiempo', 'Tiempo [s]', 'Amplitud')\n",
        "\n",
        "        # Transformada de Fourier de la señal portadora\n",
        "        st.subheader('Transformada de Fourier de la Señal Portadora')\n",
        "        graficar_fft(t, c, 'Espectro de la Señal Portadora')\n",
        "\n",
        "        # Mostrar la señal modulada\n",
        "        st.subheader('Señal Moduladora AM')\n",
        "        graficar_senal_tiempo(t, y, 'Señal Moduladora AM en el Tiempo', 'Tiempo [s]', 'Amplitud')\n",
        "\n",
        "        # Transformada de Fourier de la señal modulada\n",
        "        st.subheader('Transformada de Fourier de la Señal Modulada')\n",
        "        graficar_fft(t, y, 'Espectro de la Señal Modulada')\n",
        "\n",
        "        # Reproducción de audio\n",
        "        st.subheader('Reproducción de Audio')\n",
        "\n",
        "        # Convertir el segmento de datos a WAV en un buffer de BytesIO\n",
        "        wav_buffer = io.BytesIO()\n",
        "        sf.write(wav_buffer, data_segment, sample_rate, format='wav')\n",
        "        wav_buffer.seek(0)  # Reiniciar el puntero del buffer\n",
        "\n",
        "        st.audio(wav_buffer, format='audio/wav')\n",
        "\n",
        "        os.remove(\"audio.wav\")\n",
        "\n",
        "if __name__ == \"__main__\":\n",
        "    main()"
      ],
      "metadata": {
        "colab": {
          "base_uri": "https://localhost:8080/"
        },
        "id": "LKuApMVfbMrV",
        "outputId": "8b685a13-2bf6-4f61-ed39-b8201ef551dc"
      },
      "execution_count": null,
      "outputs": [
        {
          "output_type": "stream",
          "name": "stdout",
          "text": [
            "Overwriting Modulacion.py\n"
          ]
        }
      ]
    },
    {
      "cell_type": "code",
      "source": [
        "#cambiar su token\n",
        "token = '' #colocar aquí su token personal después de crear su cuenta con correo UNAL en Ngrok"
      ],
      "metadata": {
        "id": "8n8Rq7UtY5_a"
      },
      "execution_count": null,
      "outputs": []
    },
    {
      "cell_type": "code",
      "source": [
        "from pyngrok import ngrok\n",
        "\n",
        "# Set authentication token (unique per user)\n",
        "ngrok.set_auth_token(token)\n",
        "\n",
        "# Start Streamlit server on a specific port\n",
        "!nohup streamlit run Modulacion.py --server.port 8400 & #cambiar el puerto 8499 pueden poner cualquier número de 4 digitos\n",
        "\n",
        "# Start ngrok tunnel to expose the Streamlit server\n",
        "ngrok_tunnel = ngrok.connect(addr='8400', proto='http', bind_tls=True) #acá tambien lo tienen que cambiar\n",
        "\n",
        "# Print the URL of the ngrok tunnel\n",
        "print(' * Tunnel URL:', ngrok_tunnel.public_url)"
      ],
      "metadata": {
        "colab": {
          "base_uri": "https://localhost:8080/"
        },
        "id": "-wb9xuQtY_Wb",
        "outputId": "62c03ad2-62c0-42b3-e7d3-26ad132e4b1f"
      },
      "execution_count": null,
      "outputs": [
        {
          "output_type": "stream",
          "name": "stdout",
          "text": [
            "nohup: appending output to 'nohup.out'\n",
            " * Tunnel URL: https://930b-34-16-142-233.ngrok-free.app\n"
          ]
        }
      ]
    },
    {
      "cell_type": "code",
      "source": [
        "#exit(\"Stopping the execution\")"
      ],
      "metadata": {
        "id": "aSHXtHCxZE_r"
      },
      "execution_count": null,
      "outputs": []
    }
  ]
}