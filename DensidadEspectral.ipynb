{
  "nbformat": 4,
  "nbformat_minor": 0,
  "metadata": {
    "colab": {
      "provenance": [],
      "include_colab_link": true
    },
    "kernelspec": {
      "name": "python3",
      "display_name": "Python 3"
    }
  },
  "cells": [
    {
      "cell_type": "markdown",
      "metadata": {
        "id": "view-in-github",
        "colab_type": "text"
      },
      "source": [
        "<a href=\"https://colab.research.google.com/github/ManuelaCastano/CuadernosyEjercicios/blob/main/DensidadEspectral.ipynb\" target=\"_parent\"><img src=\"https://colab.research.google.com/assets/colab-badge.svg\" alt=\"Open In Colab\"/></a>"
      ]
    },
    {
      "cell_type": "markdown",
      "source": [
        "##Manuela Castaño Ortegón"
      ],
      "metadata": {
        "id": "sMCwiVVFVtCr"
      }
    },
    {
      "cell_type": "markdown",
      "source": [
        "Simulación_Densidad_Espectral"
      ],
      "metadata": {
        "id": "ZiEkYYscV0dU"
      }
    },
    {
      "cell_type": "code",
      "source": [
        "import numpy as np\n",
        "import matplotlib.pyplot as plt\n",
        "from scipy.fft import fft, fftfreq\n",
        "\n",
        "# Función que define el pulso rectangular\n",
        "def rect_pulse(t, tau, A=1):\n",
        "    return A * np.where(np.abs(t) <= tau/2, 1, 0)\n",
        "\n",
        "# Solicitar al usuario que ingrese los valores de A y tau\n",
        "A = float(input(\"Ingresa el valor de la amplitud A: \"))\n",
        "tau = float(input(\"Ingresa el valor de la duración del pulso tau (en segundos): \"))\n",
        "\n",
        "# Otros parámetros\n",
        "T = 5.0  # Duración total del tiempo de simulación (debe ser mayor que tau)\n",
        "N = 1024  # Número de puntos (resolución de la señal)\n",
        "\n",
        "# Crear vector de tiempo\n",
        "t = np.linspace(-T/2, T/2, N)\n",
        "\n",
        "# Crear la señal rectangular\n",
        "x_t = rect_pulse(t, tau, A)\n",
        "\n",
        "# Calcular la transformada de Fourier utilizando fft\n",
        "X_f = fft(x_t)\n",
        "# Calcular las frecuencias correspondientes\n",
        "f = fftfreq(N, d=(t[1] - t[0]))\n",
        "\n",
        "# Centrar la transformada para visualización\n",
        "X_f_shifted = np.fft.fftshift(X_f)\n",
        "f_shifted = np.fft.fftshift(f)\n",
        "\n",
        "# Densidad espectral de potencia (magnitud al cuadrado)\n",
        "S_f = np.abs(X_f_shifted)**2\n",
        "\n",
        "# Gráfica de la señal en el dominio del tiempo\n",
        "plt.figure(figsize=(14, 6))\n",
        "\n",
        "plt.subplot(1, 2, 1)\n",
        "plt.plot(t, x_t)\n",
        "plt.title('Pulso Rectangular $x(t)$')\n",
        "plt.xlabel('Tiempo [s]')\n",
        "plt.ylabel('Amplitud')\n",
        "plt.grid()\n",
        "\n",
        "# Gráfica de la Transformada de Fourier (dominio de la frecuencia)\n",
        "plt.subplot(1, 2, 2)\n",
        "plt.plot(f_shifted, np.abs(X_f_shifted))\n",
        "plt.title('Transformada de Fourier $X(f)$')\n",
        "plt.xlabel('Frecuencia [Hz]')\n",
        "plt.ylabel('Magnitud')\n",
        "plt.grid()\n",
        "\n",
        "plt.show()\n",
        "\n",
        "# Gráfica de la densidad espectral de potencia\n",
        "plt.figure(figsize=(7, 4))\n",
        "plt.plot(f_shifted, S_f)\n",
        "plt.title('Densidad Espectral de Potencia $S(f)$')\n",
        "plt.xlabel('Frecuencia [Hz]')\n",
        "plt.ylabel('Potencia')\n",
        "plt.grid()\n",
        "\n",
        "plt.show()"
      ],
      "metadata": {
        "id": "Dbvw1nNiVtlr"
      },
      "execution_count": null,
      "outputs": []
    }
  ]
}