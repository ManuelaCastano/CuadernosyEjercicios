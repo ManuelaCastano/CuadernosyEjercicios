{
  "nbformat": 4,
  "nbformat_minor": 0,
  "metadata": {
    "colab": {
      "provenance": [],
      "include_colab_link": true
    },
    "kernelspec": {
      "name": "python3",
      "display_name": "Python 3"
    },
    "language_info": {
      "name": "python"
    }
  },
  "cells": [
    {
      "cell_type": "markdown",
      "metadata": {
        "id": "view-in-github",
        "colab_type": "text"
      },
      "source": [
        "<a href=\"https://colab.research.google.com/github/ManuelaCastano/CuadernosyEjercicios/blob/main/Dashboards_Streamlit_Ngrok_Colab.ipynb\" target=\"_parent\"><img src=\"https://colab.research.google.com/assets/colab-badge.svg\" alt=\"Open In Colab\"/></a>"
      ]
    },
    {
      "cell_type": "markdown",
      "source": [
        "# Guía Streamlit en Colab y Ngrok - Dashboards\n",
        "\n",
        "Elaborado por: Juan David Muñoz Buritica jmunozbu@unal.edu.co (Monitoria SyS 2024-1)\n",
        "Revisado: Andrés Marino Álvarez Meza amalvarezme@unal.edu.co\n",
        "\n",
        "- [Streamlit](https://streamlit.io/) es una librería destinada a crear y compartir aplicaciones o dashboards.\n",
        "- Su objetivo es ser una herramienta fácil de usar que permita ejecutar scripts directamente y desplegarlos en un aplicativo web.\n",
        "- Sin embargo, antes de ver su funcionamiento, debemos tener en cuenta que, si bien Streamlit permite correr el aplicativo, debemos alojarlo y \"hacerlo visible\" a la red.\n",
        "- Existen diferentes métodos que cumplen dicho objetivo, también dependiendo del nivel de madurez que se requiera, bien sea simplemente testeo o producción. - Una alternativa eficaz, rápida y que puede ser fácilmente escalable es [Ngrok](https://ngrok.com/)."
      ],
      "metadata": {
        "id": "mBRoMU1ZSVbC"
      }
    },
    {
      "cell_type": "markdown",
      "source": [
        "- Ngrok es un servicio y aplicativo globalmente distribuido que asegura, acelera y protege las aplicaciones y servicios de red.\n",
        "- En este caso, nos servirá para crear el tunel http que nos deje visualizar el dashboard corriendo con Streamlit desde el entorno del cuadernillo o script de Python.\n",
        "- El servicio gratuito de Ngrok, tras crear la cuenta tiene la posibilidad de mantener un agente activo simultáneo, cuya configuración está dada por el token de autenticación único por usuario y túnel.\n",
        "\n",
        "**Nota: Cree una cuenta en Ngrok https://ngrok.com/ con su correo UNAL y guarde el token personal asignado**"
      ],
      "metadata": {
        "id": "2y5u0IEjUUlK"
      }
    },
    {
      "cell_type": "markdown",
      "source": [
        "# Ejemplo Dashboard con Streamlit y Ngrok\n",
        "\n",
        "- Manipulación de audios desde Youtube"
      ],
      "metadata": {
        "id": "Is7CnMUjPkEa"
      }
    },
    {
      "cell_type": "code",
      "execution_count": null,
      "metadata": {
        "id": "AS_pGOHuRBOe",
        "colab": {
          "base_uri": "https://localhost:8080/"
        },
        "outputId": "ea6ab677-347b-40cf-ed7c-bb86087bb35b"
      },
      "outputs": [
        {
          "output_type": "stream",
          "name": "stdout",
          "text": [
            "\u001b[2K   \u001b[90m━━━━━━━━━━━━━━━━━━━━━━━━━━━━━━━━━━━━━━━━\u001b[0m \u001b[32m8.7/8.7 MB\u001b[0m \u001b[31m44.8 MB/s\u001b[0m eta \u001b[36m0:00:00\u001b[0m\n",
            "\u001b[2K   \u001b[90m━━━━━━━━━━━━━━━━━━━━━━━━━━━━━━━━━━━━━━━━\u001b[0m \u001b[32m207.3/207.3 kB\u001b[0m \u001b[31m10.1 MB/s\u001b[0m eta \u001b[36m0:00:00\u001b[0m\n",
            "\u001b[2K   \u001b[90m━━━━━━━━━━━━━━━━━━━━━━━━━━━━━━━━━━━━━━━━\u001b[0m \u001b[32m6.9/6.9 MB\u001b[0m \u001b[31m37.9 MB/s\u001b[0m eta \u001b[36m0:00:00\u001b[0m\n",
            "\u001b[2K   \u001b[90m━━━━━━━━━━━━━━━━━━━━━━━━━━━━━━━━━━━━━━━━\u001b[0m \u001b[32m82.9/82.9 kB\u001b[0m \u001b[31m4.3 MB/s\u001b[0m eta \u001b[36m0:00:00\u001b[0m\n",
            "\u001b[2K   \u001b[90m━━━━━━━━━━━━━━━━━━━━━━━━━━━━━━━━━━━━━━━━\u001b[0m \u001b[32m62.7/62.7 kB\u001b[0m \u001b[31m2.7 MB/s\u001b[0m eta \u001b[36m0:00:00\u001b[0m\n",
            "\u001b[?25hCollecting pyngrok\n",
            "  Downloading pyngrok-7.2.0-py3-none-any.whl.metadata (7.4 kB)\n",
            "Requirement already satisfied: PyYAML>=5.1 in /usr/local/lib/python3.10/dist-packages (from pyngrok) (6.0.2)\n",
            "Downloading pyngrok-7.2.0-py3-none-any.whl (22 kB)\n",
            "Installing collected packages: pyngrok\n",
            "Successfully installed pyngrok-7.2.0\n"
          ]
        }
      ],
      "source": [
        "!pip install streamlit -q #instalación de librerías\n",
        "!pip install pyngrok"
      ]
    },
    {
      "cell_type": "code",
      "source": [
        "!python3 -m pip install --force-reinstall https://github.com/yt-dlp/yt-dlp/archive/master.tar.gz\n",
        "!pip install soundfile #librerias descarga Youtube y manejo de audios en python"
      ],
      "metadata": {
        "id": "ilQwRjcv9azp",
        "colab": {
          "base_uri": "https://localhost:8080/"
        },
        "outputId": "5a555f01-cb21-4725-ac8e-077c20dce95f"
      },
      "execution_count": null,
      "outputs": [
        {
          "output_type": "stream",
          "name": "stdout",
          "text": [
            "Collecting https://github.com/yt-dlp/yt-dlp/archive/master.tar.gz\n",
            "  Downloading https://github.com/yt-dlp/yt-dlp/archive/master.tar.gz\n",
            "\u001b[2K     \u001b[32m-\u001b[0m \u001b[32m2.7 MB\u001b[0m \u001b[31m2.7 MB/s\u001b[0m \u001b[33m0:00:01\u001b[0m\n",
            "\u001b[?25h  Installing build dependencies ... \u001b[?25l\u001b[?25hdone\n",
            "  Getting requirements to build wheel ... \u001b[?25l\u001b[?25hdone\n",
            "  Preparing metadata (pyproject.toml) ... \u001b[?25l\u001b[?25hdone\n",
            "Collecting brotli (from yt-dlp==2024.8.6)\n",
            "  Downloading Brotli-1.1.0-cp310-cp310-manylinux_2_5_x86_64.manylinux1_x86_64.manylinux_2_12_x86_64.manylinux2010_x86_64.whl.metadata (5.5 kB)\n",
            "Collecting certifi (from yt-dlp==2024.8.6)\n",
            "  Using cached certifi-2024.7.4-py3-none-any.whl.metadata (2.2 kB)\n",
            "Collecting mutagen (from yt-dlp==2024.8.6)\n",
            "  Downloading mutagen-1.47.0-py3-none-any.whl.metadata (1.7 kB)\n",
            "Collecting pycryptodomex (from yt-dlp==2024.8.6)\n",
            "  Downloading pycryptodomex-3.20.0-cp35-abi3-manylinux_2_17_x86_64.manylinux2014_x86_64.whl.metadata (3.4 kB)\n",
            "Collecting requests<3,>=2.32.2 (from yt-dlp==2024.8.6)\n",
            "  Using cached requests-2.32.3-py3-none-any.whl.metadata (4.6 kB)\n",
            "Collecting urllib3<3,>=1.26.17 (from yt-dlp==2024.8.6)\n",
            "  Downloading urllib3-2.2.2-py3-none-any.whl.metadata (6.4 kB)\n",
            "Collecting websockets>=13.0 (from yt-dlp==2024.8.6)\n",
            "  Downloading websockets-13.0-cp310-cp310-manylinux_2_5_x86_64.manylinux1_x86_64.manylinux_2_17_x86_64.manylinux2014_x86_64.whl.metadata (6.7 kB)\n",
            "Collecting charset-normalizer<4,>=2 (from requests<3,>=2.32.2->yt-dlp==2024.8.6)\n",
            "  Using cached charset_normalizer-3.3.2-cp310-cp310-manylinux_2_17_x86_64.manylinux2014_x86_64.whl.metadata (33 kB)\n",
            "Collecting idna<4,>=2.5 (from requests<3,>=2.32.2->yt-dlp==2024.8.6)\n",
            "  Downloading idna-3.8-py3-none-any.whl.metadata (9.9 kB)\n",
            "Using cached requests-2.32.3-py3-none-any.whl (64 kB)\n",
            "Using cached certifi-2024.7.4-py3-none-any.whl (162 kB)\n",
            "Downloading urllib3-2.2.2-py3-none-any.whl (121 kB)\n",
            "\u001b[2K   \u001b[90m━━━━━━━━━━━━━━━━━━━━━━━━━━━━━━━━━━━━━━━━\u001b[0m \u001b[32m121.4/121.4 kB\u001b[0m \u001b[31m2.6 MB/s\u001b[0m eta \u001b[36m0:00:00\u001b[0m\n",
            "\u001b[?25hDownloading websockets-13.0-cp310-cp310-manylinux_2_5_x86_64.manylinux1_x86_64.manylinux_2_17_x86_64.manylinux2014_x86_64.whl (157 kB)\n",
            "\u001b[2K   \u001b[90m━━━━━━━━━━━━━━━━━━━━━━━━━━━━━━━━━━━━━━━━\u001b[0m \u001b[32m157.2/157.2 kB\u001b[0m \u001b[31m6.9 MB/s\u001b[0m eta \u001b[36m0:00:00\u001b[0m\n",
            "\u001b[?25hDownloading Brotli-1.1.0-cp310-cp310-manylinux_2_5_x86_64.manylinux1_x86_64.manylinux_2_12_x86_64.manylinux2010_x86_64.whl (3.0 MB)\n",
            "\u001b[2K   \u001b[90m━━━━━━━━━━━━━━━━━━━━━━━━━━━━━━━━━━━━━━━━\u001b[0m \u001b[32m3.0/3.0 MB\u001b[0m \u001b[31m46.6 MB/s\u001b[0m eta \u001b[36m0:00:00\u001b[0m\n",
            "\u001b[?25hDownloading mutagen-1.47.0-py3-none-any.whl (194 kB)\n",
            "\u001b[2K   \u001b[90m━━━━━━━━━━━━━━━━━━━━━━━━━━━━━━━━━━━━━━━━\u001b[0m \u001b[32m194.4/194.4 kB\u001b[0m \u001b[31m11.1 MB/s\u001b[0m eta \u001b[36m0:00:00\u001b[0m\n",
            "\u001b[?25hDownloading pycryptodomex-3.20.0-cp35-abi3-manylinux_2_17_x86_64.manylinux2014_x86_64.whl (2.1 MB)\n",
            "\u001b[2K   \u001b[90m━━━━━━━━━━━━━━━━━━━━━━━━━━━━━━━━━━━━━━━━\u001b[0m \u001b[32m2.1/2.1 MB\u001b[0m \u001b[31m49.5 MB/s\u001b[0m eta \u001b[36m0:00:00\u001b[0m\n",
            "\u001b[?25hUsing cached charset_normalizer-3.3.2-cp310-cp310-manylinux_2_17_x86_64.manylinux2014_x86_64.whl (142 kB)\n",
            "Downloading idna-3.8-py3-none-any.whl (66 kB)\n",
            "\u001b[2K   \u001b[90m━━━━━━━━━━━━━━━━━━━━━━━━━━━━━━━━━━━━━━━━\u001b[0m \u001b[32m66.9/66.9 kB\u001b[0m \u001b[31m3.4 MB/s\u001b[0m eta \u001b[36m0:00:00\u001b[0m\n",
            "\u001b[?25hBuilding wheels for collected packages: yt-dlp\n",
            "  Building wheel for yt-dlp (pyproject.toml) ... \u001b[?25l\u001b[?25hdone\n",
            "  Created wheel for yt-dlp: filename=yt_dlp-2024.8.6-py3-none-any.whl size=2880788 sha256=c2937f6a766690350f3185403fe4325fa6ce0b529ca4b930bd838c8c302c44ea\n",
            "  Stored in directory: /tmp/pip-ephem-wheel-cache-vvnnnpvd/wheels/4c/91/d1/c5369304e2f7afb660bb6eee093af5a7d3c0ea05a3c1e8c797\n",
            "Successfully built yt-dlp\n",
            "Installing collected packages: brotli, websockets, urllib3, pycryptodomex, mutagen, idna, charset-normalizer, certifi, requests, yt-dlp\n",
            "  Attempting uninstall: urllib3\n",
            "    Found existing installation: urllib3 2.0.7\n",
            "    Uninstalling urllib3-2.0.7:\n",
            "      Successfully uninstalled urllib3-2.0.7\n",
            "  Attempting uninstall: idna\n",
            "    Found existing installation: idna 3.7\n",
            "    Uninstalling idna-3.7:\n",
            "      Successfully uninstalled idna-3.7\n",
            "  Attempting uninstall: charset-normalizer\n",
            "    Found existing installation: charset-normalizer 3.3.2\n",
            "    Uninstalling charset-normalizer-3.3.2:\n",
            "      Successfully uninstalled charset-normalizer-3.3.2\n",
            "  Attempting uninstall: certifi\n",
            "    Found existing installation: certifi 2024.7.4\n",
            "    Uninstalling certifi-2024.7.4:\n",
            "      Successfully uninstalled certifi-2024.7.4\n",
            "  Attempting uninstall: requests\n",
            "    Found existing installation: requests 2.32.3\n",
            "    Uninstalling requests-2.32.3:\n",
            "      Successfully uninstalled requests-2.32.3\n",
            "Successfully installed brotli-1.1.0 certifi-2024.7.4 charset-normalizer-3.3.2 idna-3.8 mutagen-1.47.0 pycryptodomex-3.20.0 requests-2.32.3 urllib3-2.2.2 websockets-13.0 yt-dlp-2024.8.6\n",
            "Requirement already satisfied: soundfile in /usr/local/lib/python3.10/dist-packages (0.12.1)\n",
            "Requirement already satisfied: cffi>=1.0 in /usr/local/lib/python3.10/dist-packages (from soundfile) (1.17.0)\n",
            "Requirement already satisfied: pycparser in /usr/local/lib/python3.10/dist-packages (from cffi>=1.0->soundfile) (2.22)\n"
          ]
        }
      ]
    },
    {
      "cell_type": "markdown",
      "source": [
        "La estructura básica para correr un programa o script en streamlit es la siguiente."
      ],
      "metadata": {
        "id": "dq3Ao2CO3x8w"
      }
    },
    {
      "cell_type": "code",
      "source": [
        "\"\"\"\n",
        "%%writefile app.py\n",
        "import streamlit as st\n",
        "\n",
        "st.write('# Hello World ')\n",
        "st.write('## Run Streamlit on Colab with `pyngrok` ')\n",
        "\"\"\""
      ],
      "metadata": {
        "colab": {
          "base_uri": "https://localhost:8080/",
          "height": 36
        },
        "id": "2TEZ67hwhKG2",
        "outputId": "1c49c4a7-0a1a-4573-927a-61b3fee8327e"
      },
      "execution_count": null,
      "outputs": [
        {
          "output_type": "execute_result",
          "data": {
            "text/plain": [
              "\"\\n%%writefile app.py\\nimport streamlit as st\\n\\nst.write('# Hello World ')\\nst.write('## Run Streamlit on Colab with `pyngrok` ')\\n\""
            ],
            "application/vnd.google.colaboratory.intrinsic+json": {
              "type": "string"
            }
          },
          "metadata": {},
          "execution_count": 3
        }
      ]
    },
    {
      "cell_type": "markdown",
      "source": [
        "- A continuación se muestra una app básica con algunas de las funcionalidades básicas para visualizar en dashboard.\n",
        "\n",
        "- Debemos crear un archivo .py con los códigos del dashboard para su posterior visualización en Ngrok."
      ],
      "metadata": {
        "id": "IOaX3yd226rg"
      }
    },
    {
      "cell_type": "code",
      "source": [
        "%%writefile detector.py\n",
        "\n",
        "import streamlit as st\n",
        "import pandas as pd\n",
        "import numpy as np\n",
        "import os\n",
        "import subprocess\n",
        "import soundfile as sf\n",
        "import matplotlib.pyplot as plt\n",
        "from sklearn.preprocessing import MinMaxScaler\n",
        "from sklearn.manifold import TSNE\n",
        "from pyngrok import ngrok\n",
        "import yt_dlp as youtube_dl\n",
        "import joblib\n",
        "\n",
        "\n",
        "#widgets y funcionalidades de streamlit\n",
        "st.title(\"YouTube Audio Analysis and Classification\")\n",
        "uploaded_file = st.file_uploader(\"Upload your Excel file\", type=[\"xlsx\"])\n",
        "\n",
        "if uploaded_file:\n",
        "    df = pd.read_excel(uploaded_file)\n",
        "    st.write(\"Uploaded data:\", df)\n",
        "\n",
        "custom_url = st.text_input(\"Enter a new YouTube URL to process:\", \"\")\n",
        "\n",
        "song_duration = st.slider('Playtime for the song')\n",
        "\n",
        "add_selectbox = st.sidebar.selectbox(\n",
        "    'How many 5s pieces would you like to process?',\n",
        "    ('1', '2', '3')\n",
        ")"
      ],
      "metadata": {
        "colab": {
          "base_uri": "https://localhost:8080/"
        },
        "id": "KxXGfU4z21Yt",
        "outputId": "711ef2cd-8aad-46e0-84f9-35f5c02f5016"
      },
      "execution_count": null,
      "outputs": [
        {
          "output_type": "stream",
          "name": "stdout",
          "text": [
            "Writing detector.py\n"
          ]
        }
      ]
    },
    {
      "cell_type": "markdown",
      "source": [
        "Como al momento de correr el script con Streamlit se requiere del archivo .py donde se encuentre el código, utilizamos %%writefile para crearlo. Posteriormente hacemos toda la configuración de Ngrok con el token y demás datos de protocolo."
      ],
      "metadata": {
        "id": "Wmhs3tByoErw"
      }
    },
    {
      "cell_type": "code",
      "source": [
        "token = '2lLjOWkqRYefTOvPNoWEGk7ILtC_sTA7Yw6363v3jvkDjZ3P' #colocar aquí su token personal después de crear su cuenta con correo UNAL en Ngrok"
      ],
      "metadata": {
        "id": "BFoInA_Fo7ut"
      },
      "execution_count": null,
      "outputs": []
    },
    {
      "cell_type": "code",
      "source": [
        "from pyngrok import ngrok\n",
        "\n",
        "# Set authentication token (unique per user)\n",
        "ngrok.set_auth_token(token)\n",
        "\n",
        "# Start Streamlit server on a specific port\n",
        "!nohup streamlit run detector.py --server.port 5011 & #indicamos para que corra el programa\n",
        "\n",
        "# Start ngrok tunnel to expose the Streamlit server\n",
        "ngrok_tunnel = ngrok.connect(addr='5011', proto='http', bind_tls=True)\n",
        "\n",
        "# Print the URL of the ngrok tunnel\n",
        "print(' * Tunnel URL:', ngrok_tunnel.public_url)"
      ],
      "metadata": {
        "colab": {
          "base_uri": "https://localhost:8080/"
        },
        "id": "Owu5b-ENhQuZ",
        "outputId": "6e2b24c3-922c-45eb-e87e-a073f45c689f"
      },
      "execution_count": null,
      "outputs": [
        {
          "output_type": "stream",
          "name": "stdout",
          "text": [
            "nohup: appending output to 'nohup.out'\n",
            " * Tunnel URL: https://cdbf-35-231-234-69.ngrok-free.app\n"
          ]
        }
      ]
    },
    {
      "cell_type": "code",
      "source": [
        "#exit(\"Stopping the execution\")"
      ],
      "metadata": {
        "id": "dWfjbJx96kP0"
      },
      "execution_count": null,
      "outputs": []
    },
    {
      "cell_type": "markdown",
      "source": [
        "## Cómo usar Streamlit?\n",
        "\n"
      ],
      "metadata": {
        "id": "jfZLTaYmpTiM"
      }
    },
    {
      "cell_type": "markdown",
      "source": [
        "- Tan pronto como se ejecuta el script, un servidor local de Streamlit se inicia con el cuadernillo.\n",
        "- La aplicación es como un lienzo, donde se pueden dibujar gráficos, texto, widgets, tablas, etc.\n",
        "- Streamlit dispone de distintos métodos o funciones que permiten hacerlo, como por ejemplo, st.text() que escribe texto sin formato en la aplicación, y st.line_chart() que dibuja un gráfico de líneas."
      ],
      "metadata": {
        "id": "nQC2dlJYpZWy"
      }
    },
    {
      "cell_type": "markdown",
      "source": [
        "La arquitectura de Streamlit permite escribir aplicaciones de la misma manera en que se escriben scripts en Python. Para esto, las aplicaciones de Streamlit tienen un flujo de datos único: cada vez que algo debe actualizarse en la pantalla, Streamlit vuelve a ejecutar todo el script de Python de principio a fin.\n",
        "\n",
        "Esto puede ocurrir en dos situaciones:\n",
        "\n",
        "- Cuando se modifica el código fuente de la aplicación.\n",
        "\n",
        "- Cuando un usuario interactúa con los widgets en la aplicación. Por ejemplo, al arrastrar un deslizador, ingresar texto en un cuadro de entrada o hacer clic en un botón.\n",
        "\n",
        "Veamos cómo funcionan algunas de estas opciones, tomando como base algunas funcionalidades del programa [youtube_detector](https://github.com/amalvarezme/SenalesSistemas/blob/master/3_SerieyTransformadaFourier/youtube_detector.ipynb)."
      ],
      "metadata": {
        "id": "_iB8IXOzsuBI"
      }
    },
    {
      "cell_type": "code",
      "source": [
        "import streamlit as st\n",
        "import pandas as pd\n",
        "import numpy as np\n",
        "import os\n",
        "import subprocess\n",
        "import soundfile as sf\n",
        "import matplotlib.pyplot as plt\n",
        "from sklearn.preprocessing import MinMaxScaler\n",
        "from sklearn.manifold import TSNE\n",
        "from pyngrok import ngrok\n",
        "import yt_dlp as youtube_dl\n",
        "import joblib"
      ],
      "metadata": {
        "id": "QCz26bdrt3YQ"
      },
      "execution_count": null,
      "outputs": []
    },
    {
      "cell_type": "markdown",
      "source": [
        "Ponemos un título a la aplicación y página."
      ],
      "metadata": {
        "id": "3rzTj3x-ukkq"
      }
    },
    {
      "cell_type": "code",
      "source": [
        "st.title(\"YouTube Audio Analysis and Classification\")"
      ],
      "metadata": {
        "id": "vEaip43VuYQo",
        "colab": {
          "base_uri": "https://localhost:8080/"
        },
        "outputId": "f07fe32b-b6ca-412e-cd3f-18a66713e841"
      },
      "execution_count": null,
      "outputs": [
        {
          "output_type": "stream",
          "name": "stderr",
          "text": [
            "2024-08-27 00:27:36.922 \n",
            "  \u001b[33m\u001b[1mWarning:\u001b[0m to view this Streamlit app on a browser, run it with the following\n",
            "  command:\n",
            "\n",
            "    streamlit run /usr/local/lib/python3.10/dist-packages/colab_kernel_launcher.py [ARGUMENTS]\n"
          ]
        },
        {
          "output_type": "execute_result",
          "data": {
            "text/plain": [
              "DeltaGenerator()"
            ]
          },
          "metadata": {},
          "execution_count": 9
        }
      ]
    },
    {
      "cell_type": "markdown",
      "source": [
        "Podemos dejar la opción para que el usuario suba un archivo, en este caso con el formato específico .xlsx"
      ],
      "metadata": {
        "id": "eHK1hpx4uwFG"
      }
    },
    {
      "cell_type": "code",
      "source": [
        "uploaded_file = st.file_uploader(\"Upload your Excel file\", type=[\"xlsx\"])"
      ],
      "metadata": {
        "id": "2cbSzlm6uu40"
      },
      "execution_count": null,
      "outputs": []
    },
    {
      "cell_type": "markdown",
      "source": [
        "Damos un mensaje de confirmación del archivo subido, y lo leemos con pandas."
      ],
      "metadata": {
        "id": "SZbIJN6pwtc4"
      }
    },
    {
      "cell_type": "code",
      "source": [
        "if uploaded_file:\n",
        "    df = pd.read_excel(uploaded_file)\n",
        "    st.write(\"Uploaded data:\", df)"
      ],
      "metadata": {
        "id": "A4_NrK-awys4"
      },
      "execution_count": null,
      "outputs": []
    },
    {
      "cell_type": "markdown",
      "source": [
        "Para el momento en el que queramos identificar una canción, podemos poner la opción de que el usuario introduza el link de esa canción."
      ],
      "metadata": {
        "id": "yxH7VTb8xMb0"
      }
    },
    {
      "cell_type": "code",
      "source": [
        "custom_url = st.text_input(\"Enter a new YouTube URL to process:\", \"\")"
      ],
      "metadata": {
        "id": "WwqAWmrtxXCm",
        "colab": {
          "base_uri": "https://localhost:8080/"
        },
        "outputId": "21ccf81d-bf46-42e8-d114-bc794ff96d54"
      },
      "execution_count": null,
      "outputs": [
        {
          "output_type": "stream",
          "name": "stderr",
          "text": [
            "2024-08-27 00:27:37.059 Session state does not function when running a script without `streamlit run`\n"
          ]
        }
      ]
    },
    {
      "cell_type": "markdown",
      "source": [
        "### Procesamiento de Datos\n",
        "- Ahora, una vez que se han introducido los datos, ocurre algo particular. La lista de canciones del archivo de excel van a utilizarse para entrenar un modelo sencillo que permita posteriormente hacer la clasificación.\n",
        "- Existe una opción que nos permite guardar en caché elementos o partes (funciones) del script, que solo correrán una vez y no volverán a hacerlo a menos de que sea completamente necesario (han cambiado las condiciones o argumentos de la función)."
      ],
      "metadata": {
        "id": "hYcGd5UtyDvo"
      }
    },
    {
      "cell_type": "markdown",
      "source": [
        "Para evitar cálculos redundantes, Streamlit proporciona decoradores de caché como @st.cache_data y @st.cache_resource. Estos decoradores almacenan los resultados de cálculos costosos, los cuales pueden reutilizarse en diferentes ejecuciones de la aplicación.\n",
        "\n",
        "- st.cache_data es la forma recomendada para almacenar en caché cálculos que devuelven datos o un objeto de datos serializable (por ejemplo, str, int, float, DataFrame, dict, list). Crea una nueva copia de los datos en cada llamada a la función, lo que lo hace seguro contra *mutaciones y condiciones de carrera*.\n",
        "\n",
        "- st.cache_resource es la forma recomendada para almacenar en caché recursos globales como modelos de aprendizaje automático o conexiones a bases de datos. Usa st.cache_resource cuando tu función devuelve objetos no serializables que no quieres cargar múltiples veces. Devuelve el objeto en caché en sí, el cual se comparte entre todas las ejecuciones y sesiones sin copia ni duplicación. Si mutas un objeto que está en caché utilizando st.cache_resource, esa mutación existirá en todas las ejecuciones y sesiones."
      ],
      "metadata": {
        "id": "mEvGkvayzlY9"
      }
    },
    {
      "cell_type": "markdown",
      "source": [
        "Al agregar cálculos de larga duración a una aplicación, se puede usar st.progress() para mostrar el estado en tiempo real."
      ],
      "metadata": {
        "id": "9EnHQOws51HE"
      }
    },
    {
      "cell_type": "code",
      "source": [
        "@st.cache_data\n",
        "def download_ytvid_as_mp3(video_url,name):\n",
        "    #video_url = input(\"enter url of youtube video:\")\n",
        "    video_info = youtube_dl.YoutubeDL().extract_info(url = video_url,download=False)\n",
        "    filename = f\"{name}.mp3\"\n",
        "    options={\n",
        "        'format':'bestaudio/best',\n",
        "        'keepvideo':False,\n",
        "        'outtmpl':filename,\n",
        "    }\n",
        "\n",
        "    with youtube_dl.YoutubeDL(options) as ydl:\n",
        "        ydl.download([video_info['webpage_url']])\n",
        "\n",
        "    print(\"Download complete... {}\".format(filename))\n",
        "\n",
        "@st.cache_resource\n",
        "def load_and_process_audio_files(path='results/'):\n",
        "    # Function to train the model from the Excel file\n",
        "    pass"
      ],
      "metadata": {
        "id": "tFSBKWao0sxx",
        "colab": {
          "base_uri": "https://localhost:8080/"
        },
        "outputId": "348d90ef-f91b-4a55-abd6-72793f791ae1"
      },
      "execution_count": null,
      "outputs": [
        {
          "output_type": "stream",
          "name": "stderr",
          "text": [
            "2024-08-27 00:27:37.102 No runtime found, using MemoryCacheStorageManager\n"
          ]
        }
      ]
    },
    {
      "cell_type": "markdown",
      "source": [
        "También existen otros elementos algo más interactivos (widgets) para el usuario que pueden cumplir funciones importantes, como st.button(), st.slider() o st.selectbox(). Estos se tratan como si fueran simplemente variables."
      ],
      "metadata": {
        "id": "7KVeJHu51VjR"
      }
    },
    {
      "cell_type": "code",
      "source": [
        "def process_audio_from_link(df):\n",
        "  pass\n",
        "\n",
        "if st.button(\"Download and Process Audio\"):\n",
        "    path = process_audio_from_link(df)\n",
        "    x_t, label, name_c, fs = load_and_process_audio_files(path)"
      ],
      "metadata": {
        "id": "gCWNEJEG11z-"
      },
      "execution_count": null,
      "outputs": []
    },
    {
      "cell_type": "code",
      "source": [
        "song_duration = st.slider('Playtime for the song')"
      ],
      "metadata": {
        "id": "uspdzDkO4SLV"
      },
      "execution_count": null,
      "outputs": []
    },
    {
      "cell_type": "markdown",
      "source": [
        "### Visualización de Datos\n",
        "Streamlit brinda cierta flexibilidad y opciones para visualizar datos, bien sea con funciones propias o su integración con pyplot."
      ],
      "metadata": {
        "id": "P-i3ORnP2IbX"
      }
    },
    {
      "cell_type": "code",
      "source": [
        "\"\"\"\n",
        "st.write(\"Time Domain Signals\")\n",
        "st.line_chart(x_t.mean(axis=-1)) # Gráfico en el tiempo\n",
        "\"\"\""
      ],
      "metadata": {
        "id": "3JKxeEhI2YHI",
        "colab": {
          "base_uri": "https://localhost:8080/",
          "height": 36
        },
        "outputId": "ea40502c-6172-4ac4-e54f-a4ea34c657b2"
      },
      "execution_count": null,
      "outputs": [
        {
          "output_type": "execute_result",
          "data": {
            "text/plain": [
              "'\\nst.write(\"Time Domain Signals\")\\nst.line_chart(x_t.mean(axis=-1)) # Gráfico en el tiempo\\n'"
            ],
            "application/vnd.google.colaboratory.intrinsic+json": {
              "type": "string"
            }
          },
          "metadata": {},
          "execution_count": 16
        }
      ]
    },
    {
      "cell_type": "code",
      "source": [
        "\"\"\"\n",
        "plt.plot(vf, abs(Xw).T)\n",
        "plt.xlabel('Frequency (Hz)')\n",
        "plt.ylabel('|X(f)|')\n",
        "st.pyplot(plt)\n",
        "\"\"\""
      ],
      "metadata": {
        "id": "b7v7NMQc2l4E",
        "colab": {
          "base_uri": "https://localhost:8080/",
          "height": 36
        },
        "outputId": "291d37cf-a5df-4a96-fd17-09453a5f1cb7"
      },
      "execution_count": null,
      "outputs": [
        {
          "output_type": "execute_result",
          "data": {
            "text/plain": [
              "\"\\nplt.plot(vf, abs(Xw).T)\\nplt.xlabel('Frequency (Hz)')\\nplt.ylabel('|X(f)|')\\nst.pyplot(plt)\\n\""
            ],
            "application/vnd.google.colaboratory.intrinsic+json": {
              "type": "string"
            }
          },
          "metadata": {},
          "execution_count": 17
        }
      ]
    },
    {
      "cell_type": "markdown",
      "source": [
        "Streamlit en ocasiones recomienda usar st.write() gracias a su funcionalidad \"Magic\". Podemos pasarle casi cualquier cosa a st.write() y automáticamente encontrará la mejor manera de representar esos datos (texto, datos, figuras, etc). Sin embargo, para un mayor control, pueden usarse los métodos mencionados antes."
      ],
      "metadata": {
        "id": "f1DQs3Ij201F"
      }
    },
    {
      "cell_type": "markdown",
      "source": [
        "### Presentación del dashboard\n",
        "\n",
        "Streamlit facilita la organización de los widgets en un panel lateral izquierdo con st.sidebar(). Cada elemento que se pasa a st.sidebar() queda fijado a la izquierda, permitiendo a los usuarios concentrarse en el contenido de la aplicación mientras siguen teniendo acceso a los controles de la interfaz."
      ],
      "metadata": {
        "id": "PCN9Hw_c34A5"
      }
    },
    {
      "cell_type": "code",
      "source": [
        "# Add a selectbox to the sidebar:\n",
        "add_selectbox = st.sidebar.selectbox(\n",
        "    'How would you like to be contacted?',\n",
        "    ('Email', 'Home phone', 'Mobile phone')\n",
        ")"
      ],
      "metadata": {
        "id": "-KXaIkEG5Lsi"
      },
      "execution_count": null,
      "outputs": []
    },
    {
      "cell_type": "markdown",
      "source": [
        "Más allá del panel lateral, Streamlit ofrece varias otras formas de controlar la disposición de tu aplicación. st.columns() permite colocar widgets uno al lado del otro, y st.expander() permite ahorrar espacio al ocultar contenido extenso."
      ],
      "metadata": {
        "id": "ocFHAVk15nCI"
      }
    },
    {
      "cell_type": "markdown",
      "source": [
        "A medida que las aplicaciones crecen, resulta útil organizarlas en múltiples páginas. Esto facilita la gestión de la aplicación y la navegación como usuario. Streamlit ofrece una forma sencilla de crear aplicaciones multipágina.\n",
        "- En la carpeta donde está el script principal, se crea una nueva carpeta para las páginas [pages].\n",
        "- Se añaden nuevos archivos .py en esta carpeta para añadir más páginas a la app.\n",
        "- Se corre sl script principal de la misma manera."
      ],
      "metadata": {
        "id": "Zxx09CKO76tt"
      }
    },
    {
      "cell_type": "markdown",
      "source": [
        "Para mayor detalle en el uso de streamlit, podemos recurrir a su propia documentación, con ejemplos y otros detalles: https://docs.streamlit.io/get-started"
      ],
      "metadata": {
        "id": "5dTHyiBX35xM"
      }
    },
    {
      "cell_type": "code",
      "source": [
        "{}"
      ],
      "metadata": {
        "id": "WN_ghfTrIuyz"
      },
      "execution_count": null,
      "outputs": []
    },
    {
      "cell_type": "code",
      "source": [
        "dic={'x':5}\n",
        "print(dic['x'])"
      ],
      "metadata": {
        "colab": {
          "base_uri": "https://localhost:8080/"
        },
        "id": "oOQ2O5mVIdPU",
        "outputId": "6cb3ea7d-7fff-440d-f8e2-ccab2fb62f29"
      },
      "execution_count": 2,
      "outputs": [
        {
          "output_type": "stream",
          "name": "stdout",
          "text": [
            "5\n"
          ]
        }
      ]
    },
    {
      "cell_type": "code",
      "source": [
        "class carro:\n",
        "  def __init__(self,modelo) :\n",
        "      self.modelo=modelo\n"
      ],
      "metadata": {
        "id": "yNNH_m4hI6uB"
      },
      "execution_count": null,
      "outputs": []
    }
  ]
}