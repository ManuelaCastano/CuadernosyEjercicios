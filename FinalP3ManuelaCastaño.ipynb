{
  "nbformat": 4,
  "nbformat_minor": 0,
  "metadata": {
    "colab": {
      "provenance": [],
      "authorship_tag": "ABX9TyPtAQPPytqfYIuLi0a6ovf5",
      "include_colab_link": true
    },
    "kernelspec": {
      "name": "python3",
      "display_name": "Python 3"
    },
    "language_info": {
      "name": "python"
    }
  },
  "cells": [
    {
      "cell_type": "markdown",
      "metadata": {
        "id": "view-in-github",
        "colab_type": "text"
      },
      "source": [
        "<a href=\"https://colab.research.google.com/github/ManuelaCastano/CuadernosyEjercicios/blob/main/FinalP3ManuelaCasta%C3%B1o.ipynb\" target=\"_parent\"><img src=\"https://colab.research.google.com/assets/colab-badge.svg\" alt=\"Open In Colab\"/></a>"
      ]
    },
    {
      "cell_type": "markdown",
      "source": [
        "1. Encuentre la función de transferencia que caracteriza el sistema masa, resorte, amortiguador, asumiendo conciciones iniciales cero. Luego, encuentre el sistema equivalente a partir de un circui-\n",
        "to RLC (entrada de tensión - salida tensión del capacitor).\n",
        "Finalmente, desde el modelado desarrollado, presente un\n",
        "dashboard que permita simular el sistema como subamortiguado, con amortiguamiento crítico, sobreamortiguado, os-\n",
        "cilatorio e inestable. El usuario podrá determinar el valor del\n",
        "factor de amortiguamiento y la simulación deberá determinar los valores de m, k y c y sus equivalentes R, L y C; además de estimar el tipo de amortiguamiento. Asimismo,\n",
        "deberá presentar las gráficas de polos y ceros, diagrama de\n",
        "Bode, respuesta impulso y respuesta al escalón. Nota: Para las gráticas de Bode, respuesta impulso y respuesta al escalón, se sugiere utilizar la API de control de Sympy, a partir\n",
        "de los cuadernos guía: Péndulo elástico y SLIT y fracciones\n",
        "parciales."
      ],
      "metadata": {
        "id": "nwRjB-LPon3C"
      }
    },
    {
      "cell_type": "markdown",
      "source": [
        "### Ecuación diferencial\n",
        "\n",
        "La ecuación diferencia del sistema mecánico se obtiene al considerar el equilibrio de fuerzas ejercidas sobre la masa:\n",
        "\n",
        "\\begin{equation}\n",
        "F_\\text{S}(t) + F_\\text{F}(t) + F_\\text{I}(t) = F_\\text{E}(t)\n",
        "\\end{equation}\n",
        "\n",
        "\\begin{equation}\n",
        "F_\\text{S}(t) = k y(t)\n",
        "\\end{equation}\n",
        "\n",
        "Es común modelar la fuerza de fricción $F_\\text{F}(t)$ inducida por el amortiguador de manera proporcional a la velocidad de la masa\n",
        "\n",
        "\\begin{equation}\n",
        "F_\\text{F}(t) = c \\frac{d y(t)}{dt}\n",
        "\\end{equation}\n",
        "\n",
        "La fuerza inercial $F_\\text{I}(t)$ debida a la aceleración de la masa se da como\n",
        "\n",
        "\\begin{equation}\n",
        "F_\\text{I}(t) = m \\frac{d^2 y(t)}{dt^2}\n",
        "\\end{equation}\n",
        "\n",
        "Al introducir las fuerzas anteriormente halladas en el equilibrio de fuerzas se obtiene la ecuación diferencial que describe el desplazamiento del péndulo elástico amortiguado\n",
        "\n",
        "\\begin{equation}\n",
        "m \\frac{d^2 y(t)}{dt^2} + c \\frac{d y(t)}{dt} + k y(t) = F_\\text{E}(t)\n",
        "\\end{equation}\n",
        "\n",
        "Como consecuencia de la fuerza externa.\n",
        "\n",
        "La ecuación anterior constituye una EDO con coeficientes constantes. Puede interpretarse como un SLTI con la fuerza externa $x(t)=F_\\text{E}(t)$ como señal de entrada y el desplazamiento de la masa como la señal de salida $y(t)$."
      ],
      "metadata": {
        "id": "vUl6Jio-o0HL"
      }
    },
    {
      "cell_type": "markdown",
      "source": [
        "### Equivalente RCL\n",
        "\n",
        "Comparando las EDO del péndulo elástico amortiguado y el circuito RLC, se tiene que ambos constituyen una EDO de segundo orden con coeficientes constantes.\n",
        "\n",
        "La división de la EDO del circuito por la constante $C$ resulta en:\n",
        "\n",
        "\\begin{equation}\n",
        "L \\frac{d^2 u_\\text{o}(t)}{dt^2} + R \\frac{d u_\\text{o}(t)}{dt} + \\frac{1}{C} u_\\text{o}(t) = \\frac{1}{C} u_\\text{i}(t)\n",
        "\\end{equation}\n",
        "\n",
        "Donde $u_\\text{i}(t)$ y $u_\\text{o}(t)$ denotan el voltaje de entrada y salida del circuito respesctivamente.\n",
        "\n",
        "La comparación de la EDO anterior con la del péndulo elástico amortiguado produce así:\n",
        "\n",
        "|                         | Circuito RLC | Péndulo elástico                          |\n",
        "|-------------------------|------------------------------------|-------------------------------------------|\n",
        "| Señal de entrada $x(t)$ | $u_\\text{i}(t) = F_\\text{E}(t) C$  | $F_\\text{E}(t) = \\frac{u_\\text{i}(t)}{C}$ |\n",
        "| Señal de salida $y(t)$  | $u_\\text{o}(t)$                    | $y(t)$                                    |\n",
        "|                         | $L=m$                              | $m=L$                                     |\n",
        "|                         | $R=c$                              | $c=R$                                     |\n",
        "|                         | $C=\\frac{1}{k}$                    | $k=\\frac{1}{C}$                           |"
      ],
      "metadata": {
        "id": "SGTmTHjMo99E"
      }
    },
    {
      "cell_type": "markdown",
      "source": [
        "Se tiene la función de transferencia como:"
      ],
      "metadata": {
        "id": "oRWnukKZpQ6P"
      }
    },
    {
      "cell_type": "markdown",
      "source": [
        "###Función de Transferencia desde la Entrada de Tensión hasta la Tensión en el Capacitor\n",
        "\n",
        "##Impedancias del Circuito\n",
        "\n",
        "Dado un circuito RLC en serie:\n",
        "\n",
        "   La impedancia del inductor es $Z_L(s) = Ls$.\n",
        "   La impedancia de la resistencia es $Z_R = R$.\n",
        "   La impedancia del capacitor es $Z_C(s) = \\frac{1}{Cs}$.\n",
        "\n",
        "\n",
        "La impedancia total del circuito es la suma de las tres:\n",
        "\\begin{equation}\n",
        "Z_{\\text{total}}(s) = Z_R + Z_L(s) + Z_C(s) = R + Ls + \\frac{1}{Cs}\n",
        "\\end{equation}\n",
        "\n",
        "###Relación de Tensiones\n",
        "\n",
        "Utilizando la división de voltaje, la relación entre la tensión del capacitor $V_C(s)$ y la tensión de entrada $V_{in}(s)$ es:\n",
        "\n",
        "\\begin{equation}\n",
        "V_C(s) = V_{in}(s) \\cdot \\frac{Z_C(s)}{Z_{\\text{total}}(s)}\n",
        "\\end{equation}\n",
        "\n",
        "Sustituyendo las impedancias:\n",
        "\n",
        "\\begin{equation}\n",
        "V_C(s) = V_{in}(s) \\cdot \\frac{\\frac{1}{Cs}}{R + Ls + \\frac{1}{Cs}}\n",
        "\\end{equation}\n",
        "\n",
        "###Función de Transferencia\n",
        "\n",
        "La función de transferencia $H(s) = \\frac{V_C(s)}{V_{in}(s)}$ es:\n",
        "\n",
        "\\begin{equation}\n",
        "H(s) = \\frac{\\frac{1}{Cs}}{R + Ls + \\frac{1}{Cs}}\n",
        "\\end{equation}\n",
        "\n",
        "Multiplicamos el numerador y el denominador por $Cs$ para simplificar:\n",
        "\n",
        "\\begin{equation}\n",
        "H(s) = \\frac{1}{Cs\\left( R + Ls + \\frac{1}{Cs} \\right)} = \\frac{1}{LCs^2 + RCs + 1}\n",
        "\\end{equation}"
      ],
      "metadata": {
        "id": "NvcZZpOfpFuY"
      }
    },
    {
      "cell_type": "markdown",
      "source": [
        "Simulación:"
      ],
      "metadata": {
        "id": "My--sepBpcC0"
      }
    },
    {
      "cell_type": "code",
      "source": [
        "!pip install numpy matplotlib control ipywidgets\n",
        "import numpy as np\n",
        "import matplotlib.pyplot as plt\n",
        "import control as ctl\n",
        "from ipywidgets import interact, FloatSlider"
      ],
      "metadata": {
        "id": "5uGlHOOxpc9D"
      },
      "execution_count": null,
      "outputs": []
    },
    {
      "cell_type": "code",
      "source": [
        "# Importar las bibliotecas necesarias\n",
        "import numpy as np\n",
        "import matplotlib.pyplot as plt\n",
        "import control as ctl\n",
        "from ipywidgets import interact, FloatSlider\n",
        "\n",
        "# Función para crear el sistema de segundo orden en función de m, c, k\n",
        "def sistema_amortiguado(m, zeta, wn):\n",
        "    \"\"\"\n",
        "    Función que genera el sistema de segundo orden dado m (masa), zeta (factor de amortiguamiento), y wn (frecuencia natural).\n",
        "    \"\"\"\n",
        "    # Calcular k y c\n",
        "    k = m * wn**2  # Constante del resorte\n",
        "    c = 2 * zeta * np.sqrt(k * m)  # Coeficiente de amortiguamiento\n",
        "\n",
        "    # Crear la función de transferencia\n",
        "    num = [1]  # Numerador\n",
        "    den = [m, c, k]  # Denominador basado en la ecuación de segundo orden m s^2 + c s + k\n",
        "\n",
        "    G = ctl.TransferFunction(num, den)\n",
        "    return G, c, k\n",
        "\n",
        "# Función para simular y graficar\n",
        "def simular_sistema(m, zeta, wn=1):\n",
        "    \"\"\"\n",
        "    Simula y grafica las respuestas de un sistema amortiguado de segundo orden dado el valor de m (masa), zeta y wn (frecuencia natural).\n",
        "    \"\"\"\n",
        "    # Obtener la función de transferencia y valores de c, k\n",
        "    G, c, k = sistema_amortiguado(m, zeta, wn)\n",
        "\n",
        "    print(f\"Constante de amortiguamiento (c): {c}\")\n",
        "    print(f\"Constante del resorte (k): {k}\")\n",
        "\n",
        "    # 1. Polos y ceros\n",
        "    plt.figure()\n",
        "    ctl.pzmap(G, title=\"Diagrama de Polos y Ceros\")\n",
        "    plt.grid(True)\n",
        "\n",
        "    # 2. Diagrama de Bode\n",
        "    plt.figure()\n",
        "    ctl.bode_plot(G)\n",
        "\n",
        "    # 3. Respuesta al impulso\n",
        "    plt.figure()\n",
        "    t, y_imp = ctl.impulse_response(G)\n",
        "    plt.plot(t, y_imp)\n",
        "    plt.title('Respuesta al Impulso')\n",
        "    plt.xlabel('Tiempo [s]')\n",
        "    plt.ylabel('Amplitud')\n",
        "    plt.grid(True)\n",
        "\n",
        "    # 4. Respuesta al escalón\n",
        "    plt.figure()\n",
        "    t, y_step = ctl.step_response(G)\n",
        "    plt.plot(t, y_step)\n",
        "    plt.title('Respuesta al Escalón')\n",
        "    plt.xlabel('Tiempo [s]')\n",
        "    plt.ylabel('Amplitud')\n",
        "    plt.grid(True)\n",
        "\n",
        "    plt.show()\n",
        "\n",
        "# Interfaz interactiva para seleccionar el valor de m, zeta y wn\n",
        "interact(simular_sistema,\n",
        "         m=FloatSlider(value=1, min=0.1, max=10, step=0.1, description='Masa (m)'),\n",
        "         zeta=FloatSlider(value=0.5, min=0, max=2, step=0.1, description='Factor de amortiguamiento'),\n",
        "         wn=FloatSlider(value=1, min=0.1, max=10, step=0.1, description='Frecuencia natural (wn)'));"
      ],
      "metadata": {
        "id": "hWTmM4c8prST"
      },
      "execution_count": null,
      "outputs": []
    },
    {
      "cell_type": "markdown",
      "source": [
        "##Punto 2"
      ],
      "metadata": {
        "id": "-nn2zl7IpvRw"
      }
    },
    {
      "cell_type": "code",
      "source": [
        "!pip install streamlit -q #instalación de librerías\n",
        "!npm install localtunnel\n",
        "!python3 -m pip install --force-reinstall https://github.com/yt-dlp/yt-dlp/archive/master.tar.gz"
      ],
      "metadata": {
        "id": "vTPs362Npyrd"
      },
      "execution_count": null,
      "outputs": []
    },
    {
      "cell_type": "code",
      "source": [
        "#cargar datos desde drive acceso libre\n",
        "FILEID = \"1vmhKyTZd1zN0fbfZhMVpVbQSb8RsOFRJ\"\n",
        "\n",
        "!wget --load-cookies /tmp/cookies.txt \"https://docs.google.com/uc?export=download&confirm=$(wget --quiet --save-cookies /tmp/cookies.txt --keep-session-cookies --no-check-certificate 'https://docs.google.com/uc?export=download&id='$FILEID -O- | sed -rn 's/.*confirm=([0-9A-Za-z_]+).*/\\1\\n/p')&id=\"$FILEID -O Cancion.xlsx && rm -rf /tmp/cookies.txt\n",
        "!unzip -o codigos.zip\n",
        "!dir"
      ],
      "metadata": {
        "id": "y8xKIkkTp5N1"
      },
      "execution_count": null,
      "outputs": []
    },
    {
      "cell_type": "code",
      "source": [
        "t pandas as pd\n",
        "import numpy as np\n",
        "import matplotlib.pyplot as plt\n",
        "impor\n",
        "file_ = 'Cancion.xlsx'#leer archivo xlsx con link, band, type\n",
        "X  = pd.read_excel(file_)\n",
        "X#imprimir filas iniciales"
      ],
      "metadata": {
        "id": "wadWgEoUqhyQ"
      },
      "execution_count": null,
      "outputs": []
    },
    {
      "cell_type": "code",
      "source": [
        "#instalar librerias necesarias para descargar audios youtube\n",
        "!python3 -m pip install --force-reinstall https://github.com/yt-dlp/yt-dlp/archive/master.tar.gz\n",
        "!pip install soundfile\n",
        "\n",
        "import os\n",
        "import yt_dlp as youtube_dl\n",
        "\n",
        "#funcion para descargar mp3 desde youtube\n",
        "def download_ytvid_as_mp3(video_url,name):\n",
        "    #video_url = input(\"enter url of youtube video:\")\n",
        "    video_info = youtube_dl.YoutubeDL().extract_info(url = video_url,download=False)\n",
        "    filename = f\"{name}.mp3\"\n",
        "    options={\n",
        "        'format':'bestaudio/best',\n",
        "        'keepvideo':False,\n",
        "        'outtmpl':filename,\n",
        "    }\n",
        "\n",
        "    with youtube_dl.YoutubeDL(options) as ydl:\n",
        "        ydl.download([video_info['webpage_url']])\n",
        "\n",
        "    print(\"Download complete... {}\".format(filename))"
      ],
      "metadata": {
        "id": "XyMdjEP4qrVS"
      },
      "execution_count": null,
      "outputs": []
    },
    {
      "cell_type": "code",
      "source": [
        "#crear carpeta con resultados\n",
        "try:\n",
        "  os.mkdir('results')\n",
        "except:\n",
        "  print(\"Carpeta results ya existe\")           ##genero cantante enlace\n",
        "\n",
        "import subprocess\n",
        "\n",
        "#recorrer excel con videos\n",
        "N, P = X.shape\n",
        "Ns = N * 5 #cantidad de segmentos por cancion\n",
        "\n",
        "for n in range(N):\n",
        "    print(f\"video {n+1} de {N}\")\n",
        "    print(f\"link: {X.loc[n,'Enlace']}\\n\")\n",
        "    print(f\"band: {X.loc[n,'Cantante']}\\n\")\n",
        "    print(f\"type: {X.loc[n,'Genero']}\\n\")\n",
        "    #ruta video n-th\n",
        "    name_ = 'results/'+X.loc[n,'Cantante']+\"_\"+str(n)+\"_\"+str(X.loc[n,'type_num']) # #video+nombre+tipo de genero musical\n",
        "    #descargar mp3 desde youtube\n",
        "    download_ytvid_as_mp3(X.loc[n,'Enlace'],name_)\n",
        "    #convertir a .wav\n",
        "    subprocess.call(['ffmpeg','-y', '-i', name_+'.mp3',\n",
        "                   name_+'.wav'])"
      ],
      "metadata": {
        "id": "7OeuxTmFq0JM"
      },
      "execution_count": null,
      "outputs": []
    },
    {
      "cell_type": "code",
      "source": [
        "#cargar .wavs y partir audios\n",
        "#lista archivos .wav\n",
        "path = 'results/'\n",
        "wav_files = [f for f in os.listdir(path) if f.endswith('.wav')]\n",
        "wav_files"
      ],
      "metadata": {
        "id": "Ndr8-TFQq7Cb"
      },
      "execution_count": null,
      "outputs": []
    },
    {
      "cell_type": "code",
      "source": [
        "!pip install soundfile #instalar sondfile"
      ],
      "metadata": {
        "id": "OqyD6jbmq-Vz"
      },
      "execution_count": null,
      "outputs": []
    },
    {
      "cell_type": "code",
      "source": [
        "import soundfile as sf\n",
        "import numpy as np\n",
        "\n",
        "# leer archivos y crear np.array audios\n",
        "fs = 48000\n",
        "tl = np.array([40, 50, 60, 70, 80, 90, 100])  # puntos de lectura\n",
        "ts = 4  # tiempo por segmento en segundos\n",
        "Ns = len(wav_files) * len(tl)  # cantidad de segmentos\n",
        "x_t = np.zeros((Ns, int(ts * fs)))  # Ns segmentos, cantidad de muestras (ahora en mono)\n",
        "label = np.zeros((Ns, 1))  # vector para tipo de género\n",
        "name_c = []\n",
        "\n",
        "# leer archivos wav\n",
        "i = 0\n",
        "for name in wav_files:  # lectura de audios .wav\n",
        "    x, fs = sf.read(path + name)  # leer el archivo de audio\n",
        "\n",
        "    # Verificar si es estéreo\n",
        "    if x.ndim == 2:  # si tiene 2 dimensiones (es decir, estéreo)\n",
        "        # Convertir a mono promediando los canales\n",
        "        x = np.mean(x, axis=1)\n",
        "\n",
        "    for ti in tl:  # segmentos de tiempo\n",
        "        x_t[i] = x[int(fs * ti):int(fs * (ti + ts))]  # almacenar el segmento\n",
        "        label[i] = int(name[-5])  # tipo de género\n",
        "        name_c += [name[:-6]]  # guardar el nombre sin la extensión\n",
        "        print(f\"{i} lectura: {name}; segundo {ti}:{ti + ts}; tipo música {label[i]}\")\n",
        "        i += 1\n",
        "\n",
        "# Verificar el tamaño de la matriz\n",
        "x_t.shape"
      ],
      "metadata": {
        "id": "sS-Q2GMDrI6A"
      },
      "execution_count": null,
      "outputs": []
    },
    {
      "cell_type": "code",
      "source": [
        "from IPython.display import Audio #reproducir segmento\n",
        "i = 3\n",
        "Audio(x_t[i].T,rate=fs)"
      ],
      "metadata": {
        "id": "z7Yg_8UcrT15"
      },
      "execution_count": null,
      "outputs": []
    },
    {
      "cell_type": "code",
      "source": [
        "#calculo de fourier\n",
        "vf = np.fft.rfftfreq(x_t.shape[1],1/fs) #calculo vector de frecuencias\n",
        "Xw = np.fft.rfft(x_t,axis=1).mean(axis=-1) #transformada rapida de Fourier para señal Real a lo largo del tiempo (axis=1) y se promedian los dos canales\n",
        "Xw.shape"
      ],
      "metadata": {
        "id": "ZphFbb1zrXHl"
      },
      "execution_count": null,
      "outputs": []
    },
    {
      "cell_type": "code",
      "source": [
        "#grafica tiempo y fourier\n",
        "plt.plot(np.arange(0,ts,1/fs),x_t.mean(axis=-0).T) #se promedian los dos canales stereo\n",
        "plt.xlabel('t[s]')\n",
        "plt.ylabel('x(t)')\n",
        "plt.show()"
      ],
      "metadata": {
        "id": "nnOk7Segra52"
      },
      "execution_count": null,
      "outputs": []
    },
    {
      "cell_type": "code",
      "source": [
        "#grafica tiempo y fourier\n",
        "plt.plot(vf[:len(Xw)],abs(Xw)) # se ajusta vf al tamaño de Xw\n",
        "plt.xlabel('f[Hz]')\n",
        "plt.ylabel('|X(f)|')\n",
        "plt.show()"
      ],
      "metadata": {
        "id": "SmE00TQWrevL"
      },
      "execution_count": null,
      "outputs": []
    },
    {
      "cell_type": "code",
      "source": [
        "#se normalizan espectros entre 0 y 1 para evitar inconsistencias por ampliltudes máximas\n",
        "from sklearn.preprocessing import MinMaxScaler\n",
        "sca = MinMaxScaler()\n",
        "Xw_ = sca.fit_transform(abs(Xw).reshape(-1,1)).T\n",
        "\n",
        "plt.plot(vf[:Xw_.shape[1]],Xw_.T) # se ajusta vf al tamaño de Xw_\n",
        "plt.xlabel('f[Hz]')\n",
        "plt.ylabel('|X(f)|')\n",
        "plt.show()\n",
        "\n",
        "#en dB\n",
        "plt.plot(vf[:Xw_.shape[1]],(20*np.log10(Xw_+1e-10)).T) # se suma 1e-10 para evitar discontinuidad del log y se ajusta vf al tamaño de Xw_\n",
        "plt.xlabel('f[Hz]')\n",
        "plt.ylabel('|X(f)| dB')\n",
        "plt.show()"
      ],
      "metadata": {
        "id": "pxPRTf1zrjAb"
      },
      "execution_count": null,
      "outputs": []
    },
    {
      "cell_type": "code",
      "source": [
        "from sklearn.manifold import TSNE\n",
        "from sklearn.decomposition import PCA\n",
        "#visualización de datos\n",
        "red_ = TSNE(perplexity = 20,n_components=2,random_state=123,learning_rate='auto',init='random')\n",
        "#red_ = PCA(n_components=2,random_state=123)\n",
        "fmax = 70000\n",
        "X_2D = red_.fit_transform(Xw_[:,:fmax].T) #se tiene en cuenta el espectro hasta fmax Hz"
      ],
      "metadata": {
        "id": "dd6XgrWtrqLH"
      },
      "execution_count": null,
      "outputs": []
    },
    {
      "cell_type": "code",
      "source": [
        "#graficar separabilidad 2D\n",
        "plt.scatter(X_2D[:,0],X_2D[:,1],c=label)\n",
        "plt.colorbar()\n",
        "plt.show()\n",
        "\n",
        "color_ = [\"b\",\"y\"]\n",
        "#nombre cancion\n",
        "plt.scatter(X_2D[:,0],X_2D[:,1],c=label,s=1)\n",
        "for i, tex in enumerate(name_c):\n",
        "    #print(f\"{i} {tex}\")\n",
        "    plt.text(X_2D[i,0]*1.025,X_2D[i,1]*1.025, tex[:-2]+\"_\"+str(i), fontsize=6,color=color_[int(label[i]-1)])\n",
        "\n",
        "#plt.colorbar()\n",
        "plt.show()"
      ],
      "metadata": {
        "id": "8qT5DY44rupT"
      },
      "execution_count": null,
      "outputs": []
    },
    {
      "cell_type": "code",
      "source": [
        "import joblib\n",
        "#guardar modelo\n",
        "os.mkdir('modelo')\n",
        "filename_ = 'modelo/pop_vs_metal'\n",
        "model_ ={'Xw_':Xw_,'fmax': fmax, 'label' : label, 'name_c' : name_c, 'vf':vf,'fs':fs}\n",
        "joblib.dump(model_,filename_+\".pkl\")"
      ],
      "metadata": {
        "id": "0oF0rQivrzuT"
      },
      "execution_count": null,
      "outputs": []
    },
    {
      "cell_type": "code",
      "source": [
        "#descargar modelo\n",
        "#guardar resultados\n",
        "from google.colab import files\n",
        "from datetime import date, datetime\n",
        "import shutil\n",
        "#guardar resultados\n",
        "namefile = str(datetime.now().strftime(\"%Y_%m_%d_%H_%M_%d\"))+'modelo'\n",
        "shutil.make_archive(namefile, 'zip', 'modelo')\n",
        "files.download(namefile+'.zip')\n",
        "\n",
        "#el archivo .zip puede cargarse en drive y utilizarse en otro cuaderno para detectar género musical de nuevos segmentos"
      ],
      "metadata": {
        "id": "wu0ExgFQr9UK"
      },
      "execution_count": null,
      "outputs": []
    },
    {
      "cell_type": "code",
      "source": [
        "link_= [\"https://www.youtube.com/watch?v=iywaBOMvYLI\"] #Se selecciona el link de youtube de la canciòn deseada\n",
        "name_ = [\"Toxicity\"]                                      #Nombre de la banda/artista\n",
        "for name,link in zip(name_,link_):\n",
        "    print(name)\n",
        "    download_ytvid_as_mp3(link,name)"
      ],
      "metadata": {
        "id": "a6LDpDFNsBEH"
      },
      "execution_count": null,
      "outputs": []
    },
    {
      "cell_type": "code",
      "source": [
        "!ffmpeg -y -i Inquisition.mp3 output.wav"
      ],
      "metadata": {
        "id": "9nrxyEZjsHsk"
      },
      "execution_count": null,
      "outputs": []
    },
    {
      "cell_type": "code",
      "source": [
        "import soundfile as sf # para instalar pip install soundfile\n",
        "import numpy as np\n",
        "import matplotlib.pyplot as plt\n",
        "#lee archivos wav\n",
        "nombre_out = \"output.wav\"\n",
        "x, fs = sf.read(nombre_out)\n",
        "# read speech signal from file\n",
        "print('Frecuencia de muestreo %.2f[Hz]\\naudio %s' % (fs,nombre_out))\n",
        "\n",
        "# Cargar el archivo de audio\n",
        "audio_signal, sampling_rate = sf.read(nombre_out)\n",
        "\n",
        "# Verificar cuántos canales tiene el archivo\n",
        "print(f\"Forma del audio: {audio_signal.shape}\")\n",
        "\n",
        "# Si es estéreo (2 canales), lo convertimos en mono promediando los canales\n",
        "if len(audio_signal.shape) > 1 and audio_signal.shape[1] == 2:\n",
        "    audio_mono = np.mean(audio_signal, axis=1)\n",
        "else:\n",
        "    audio_mono = audio_signal  # Si ya es mono, no hacemos nada\n",
        "\n",
        "# Guardar el archivo de audio en mono\n",
        "sf.write('audio_mono.wav', audio_mono, sampling_rate)\n",
        "\n",
        "audio_mono.shape"
      ],
      "metadata": {
        "id": "xPDzoDhEsPwz"
      },
      "execution_count": null,
      "outputs": []
    },
    {
      "cell_type": "code",
      "source": [
        "xpro = audio_mono.copy() #copiar archivos para procesar\n",
        "ti = 125 #tiempo incio a procesar seg\n",
        "tf = 130 #tiempo final a procesar seg\n",
        "xs = xpro[int(ti*fs):int((tf*fs))]"
      ],
      "metadata": {
        "id": "fq7rZeHRsUay"
      },
      "execution_count": null,
      "outputs": []
    },
    {
      "cell_type": "code",
      "source": [
        "from IPython.display import Audio\n",
        "ns = 180 #se reproducen los primeros ns segundos\n",
        "Audio(xs[:int(fs*ns)].T,rate=fs)"
      ],
      "metadata": {
        "id": "AsZYXAHhsYKB"
      },
      "execution_count": null,
      "outputs": []
    },
    {
      "cell_type": "markdown",
      "source": [
        "Normalizar la señal"
      ],
      "metadata": {
        "id": "-xX6KXCRsaG_"
      }
    },
    {
      "cell_type": "code",
      "source": [
        "audio_mono = audio_mono / np.max(np.abs(audio_mono))\n",
        " xs= xs/np.max(np.abs(xs))"
      ],
      "metadata": {
        "id": "Cvc7gCckscTB"
      },
      "execution_count": null,
      "outputs": []
    },
    {
      "cell_type": "code",
      "source": [
        "# Simulación de modulación por amplitud (AM)\n",
        "def am_modulate(audio_signal, carrier_freq, sampling_rate, mod_index):\n",
        "    t = np.arange(len(audio_signal)) / sampling_rate\n",
        "    carrier = np.sin(2 * np.pi * carrier_freq * t)\n",
        "    am_signal = (1 + mod_index * audio_signal) * carrier\n",
        "    return t, carrier, am_signal"
      ],
      "metadata": {
        "id": "Gg3p4AsftHrX"
      },
      "execution_count": null,
      "outputs": []
    },
    {
      "cell_type": "code",
      "source": [
        "#Simulación de la modulación AM\n",
        "carrier_freq = 120000  #Frecuencia de la portadora\n",
        "mod_index = float(input(\"Ingrese el indice de modulacion:\"))   # Índice de modulación\n",
        "t, carrier, am_signal = am_modulate(audio_mono, carrier_freq, sampling_rate, mod_index)"
      ],
      "metadata": {
        "id": "KuapmddytM0H"
      },
      "execution_count": null,
      "outputs": []
    },
    {
      "cell_type": "markdown",
      "source": [
        "Grafico de las señales:"
      ],
      "metadata": {
        "id": "P1_sFlf-tQea"
      }
    },
    {
      "cell_type": "code",
      "source": [
        "def plot_signal(time, signal, title):\n",
        "    plt.figure(figsize=(10, 4))\n",
        "    plt.plot(time, signal)\n",
        "    plt.title(title)\n",
        "    plt.xlabel('Tiempo [s]')\n",
        "    plt.ylabel('Amplitud')\n",
        "    plt.grid()\n",
        "    plt.show()\n",
        "\n",
        "def plot_frequency(signal, fs, title):\n",
        "    N = len(signal)\n",
        "    yf = np.fft.rfft(signal)\n",
        "    xf = np.fft.rfftfreq(N, 1 / fs)[:N // 2]\n",
        "    plt.figure(figsize=(10, 4))\n",
        "    plt.plot(xf, 2.0 / N * np.abs(yf[:N // 2]))\n",
        "    plt.title(title)\n",
        "    plt.grid()\n",
        "    plt.show()"
      ],
      "metadata": {
        "id": "1t1yctd3tVRb"
      },
      "execution_count": null,
      "outputs": []
    },
    {
      "cell_type": "code",
      "source": [
        "import matplotlib.pyplot as plt\n",
        "from scipy.fft import fft, fftfreq\n",
        "plot_signal(t, audio_mono, \"Señal de Mensaje (Tiempo)\")\n",
        "plot_signal(t, carrier, \"Señal Portadora (Tiempo)\")\n",
        "plot_signal(t, am_signal, \"Señal Modulada AM (Tiempo)\")"
      ],
      "metadata": {
        "id": "WIulVzAvtYrc"
      },
      "execution_count": null,
      "outputs": []
    },
    {
      "cell_type": "markdown",
      "source": [
        "Cálculo de Fourier"
      ],
      "metadata": {
        "id": "k8MWdSE6tcK7"
      }
    },
    {
      "cell_type": "code",
      "source": [
        "#Transformada de Fourier para mostrar en frecuencia\n",
        "plot_frequency(audio_mono, sampling_rate, 'Señal de Mensaje (Frecuencia)')\n",
        "plot_frequency(carrier, sampling_rate, 'Señal Portadora (Frecuencia)')\n",
        "plot_frequency(am_signal, sampling_rate, 'Señal Modulada AM (Frecuencia)')"
      ],
      "metadata": {
        "id": "M0B8maynthAE"
      },
      "execution_count": null,
      "outputs": []
    },
    {
      "cell_type": "code",
      "source": [
        "#Reproducir los audios\n",
        " #Señal En Mono\n",
        "Audio(xs, rate=fs )"
      ],
      "metadata": {
        "id": "8oO_giI5tlTb"
      },
      "execution_count": null,
      "outputs": []
    },
    {
      "cell_type": "code",
      "source": [
        "#Señal Portadora\n",
        "xpro_1 = carrier.copy() #copiar archivos para procesar\n",
        "ti = 125 #tiempo incio a procesar seg\n",
        "tf = 130 #tiempo final a procesar seg\n",
        "xs_1 = xpro_1[int(ti*fs):int((tf*fs))]\n",
        "Audio(xs_1, rate=fs)"
      ],
      "metadata": {
        "id": "ouzbxL5Qto8-"
      },
      "execution_count": null,
      "outputs": []
    },
    {
      "cell_type": "code",
      "source": [
        "#Señal Modulada\n",
        "xpro_2= am_signal.copy() #copiar archivos para procesar\n",
        "ti = 125 #tiempo incio a procesar seg\n",
        "tf = 130 #tiempo final a procesar seg\n",
        "xs_2 = xpro_2[int(ti*fs):int((tf*fs))]\n",
        "Audio(xs_2, rate=fs)"
      ],
      "metadata": {
        "id": "TrIjRawUtsGB"
      },
      "execution_count": null,
      "outputs": []
    },
    {
      "cell_type": "markdown",
      "source": [
        "Demodulación"
      ],
      "metadata": {
        "id": "nw0fsyU_tvb3"
      }
    },
    {
      "cell_type": "code",
      "source": [
        "#Codigo del Dashboard\n",
        "import streamlit as st\n",
        "import pandas as pd\n",
        "import numpy as np\n",
        "import os\n",
        "import subprocess\n",
        "import soundfile as sf\n",
        "import matplotlib.pyplot as plt\n",
        "from sklearn.preprocessing import MinMaxScaler\n",
        "from sklearn.manifold import TSNE\n",
        "import yt_dlp as youtube_dl\n",
        "import joblib\n",
        "import matplotlib.pyplot as plt\n",
        "from scipy.fft import fft, fftfreq\n",
        "\n",
        "t_m = np.arange(len(xs_2)) / fs\n",
        "\n",
        "d = xs_2*np.cos(2*np.pi*carrier_freq*t_m)#señal demodulada\n",
        "#repoducir señal demodulada\n",
        "st.audio(d, sample_rate=fs)\n",
        "\n",
        "plt.plot(t_m,d) #graficar señal demodulada en tiempo\n",
        "plt.xlabel('$tiempo [s]$')\n",
        "plt.ylabel('$d(t)$')\n",
        "plt.show()\n",
        "\n",
        "#Fourier señal demodulada\n",
        "Dw = np.fft.rfft(d) # axis=0 permite aplicar fft por cada columna de xpro\n",
        "\n",
        "# Calculate the correct frequency vector\n",
        "vf = np.fft.rfftfreq(len(d), 1/fs)\n",
        "\n",
        "plt.plot(vf,abs(Dw))#se grafica la magnitud\n",
        "plt.title(r'Espectro modulada')\n",
        "plt.xlabel(r'$f[Hz]$,fontsize = 14')\n",
        "plt.ylabel(r'$|D[f]|$,fontsize = 14')\n",
        "plt.show()\n",
        "\n",
        "\n",
        "plt.plot(vf, np.angle(Dw))#fase del espectro\n",
        "plt.xlabel(r'$f[Hz]$,fontsize = 14')\n",
        "plt.ylabel(r'$<D[f]$,fontsize = 14')\n",
        "plt.show()"
      ],
      "metadata": {
        "id": "ts9kU3utt1Iz"
      },
      "execution_count": null,
      "outputs": []
    },
    {
      "cell_type": "code",
      "source": [
        "t_m = np.arange(len(xs_2)) / fs\n",
        "\n",
        "d = xs_2*np.cos(2*np.pi*carrier_freq*t_m)#señal demodulada\n",
        "#repoducir señal demodulada\n",
        "Audio(d,rate=fs)"
      ],
      "metadata": {
        "id": "FFQtmphIt_N3"
      },
      "execution_count": null,
      "outputs": []
    },
    {
      "cell_type": "code",
      "source": [
        "plt.plot(t_m,d) #graficar señal demodulada en tiempo\n",
        "plt.xlabel('$tiempo [s]$')\n",
        "plt.ylabel('$d(t)$')\n",
        "plt.show()"
      ],
      "metadata": {
        "id": "5kD486ARuChh"
      },
      "execution_count": null,
      "outputs": []
    },
    {
      "cell_type": "code",
      "source": [
        "#Fourier señal demodulada\n",
        "Dw = np.fft.rfft(d) # axis=0 permite aplicar fft por cada columna de xpro\n",
        "\n",
        "# Calculate the correct frequency vector\n",
        "vf = np.fft.rfftfreq(len(d), 1/fs)\n",
        "\n",
        "plt.plot(vf,abs(Dw))#se grafica la magnitud\n",
        "plt.title(r'Espectro modulada')\n",
        "plt.xlabel(r'$f[Hz]$,fontsize = 14')\n",
        "plt.ylabel(r'$|D[f]|$,fontsize = 14')\n",
        "plt.show()\n",
        "\n",
        "\n",
        "plt.plot(vf, np.angle(Dw))#fase del espectro\n",
        "plt.xlabel(r'$f[Hz]$,fontsize = 14')\n",
        "plt.ylabel(r'$<D[f]$,fontsize = 14')\n",
        "plt.show()"
      ],
      "metadata": {
        "id": "PLwnoponuGwv"
      },
      "execution_count": null,
      "outputs": []
    },
    {
      "cell_type": "markdown",
      "source": [
        "Filtro pasabajas"
      ],
      "metadata": {
        "id": "Mm8a3JeWuJHg"
      }
    },
    {
      "cell_type": "code",
      "source": [
        "from scipy.signal import butter, cheby1, cheby2, bessel, lfilter, freqz, freqz_zpk, filtfilt\n",
        "import matplotlib.pyplot as plt\n",
        "import numpy as n"
      ],
      "metadata": {
        "id": "6hmI1wBIuK81"
      },
      "execution_count": null,
      "outputs": []
    },
    {
      "cell_type": "code",
      "source": [
        "N = 10 #orden el filtro\n",
        "Wn = 20000 #banda pasante\n",
        "filt = 'lowpass' #tipo del filtro (pasa-baja, pasa-alta, pasabanda, rechazabanda)\n",
        "out = 'zpk' #la funcion retorna los polos y ceros junto con la ganancia. Para usar numerador y denominador usar 'ba' junto con freqz\n",
        "zeros, poles, gain = butter(N, Wn, btype=filt, output=out, fs=fs)\n",
        "w, h = freqz_zpk(zeros, poles, gain, fs=fs) #Para indicar la longitud usar worN=K"
      ],
      "metadata": {
        "id": "XIo2WKtuuQwc"
      },
      "execution_count": null,
      "outputs": []
    },
    {
      "cell_type": "code",
      "source": [
        "from matplotlib.patches import Circle\n",
        "#gráfica polos y ceros\n",
        "def plot_freq_response(filter_name, w, h, N): #Mostrar la respuesta en frecuencia del filtro\n",
        "  fig = plt.figure()\n",
        "  ax1 = fig.add_subplot(1, 1, 1)\n",
        "  ax1.set_title(filter_name +' Digital filter frequency response, order= ' + str(N))\n",
        "  ax1.plot(w, 20 * np.log10(abs(h)), 'b')\n",
        "  ax1.set_ylabel('Amplitude [dB]', color='b')\n",
        "  ax1.set_xlabel('Frequency [Hz]')\n",
        "  ax1.grid()\n",
        "  ax2 = ax1.twinx()\n",
        "  angles = np.unwrap(np.angle(h))\n",
        "  ax2.plot(w, angles, 'g')\n",
        "  ax2.set_ylabel('Angle [radians]', color='g')\n",
        "  plt.axis('tight')\n",
        "  plt.show()\n",
        "\n",
        "def show_zp(z, p, title= 'Z-plane'): # Mostrar la ubicación de los polos y los zeros\n",
        "  ax = plt.gca()\n",
        "\n",
        "  ax.plot(np.real(z), np.imag(z), 'bo', fillstyle='none', ms = 10)\n",
        "  ax.plot(np.real(p), np.imag(p), 'rx', fillstyle='none', ms = 10)\n",
        "  unit_circle = Circle((0,0), radius=1, fill=False,\n",
        "                        color='black', ls='solid', alpha=0.9)\n",
        "  ax.add_patch(unit_circle)\n",
        "  ax.axvline(0, color='0.7')\n",
        "  ax.axhline(0, color='0.7')\n",
        "\n",
        "  plt.title(title)\n",
        "  plt.xlabel(r'Re{$z$}')\n",
        "  plt.ylabel(r'Im{$z$}')\n",
        "  plt.axis('equal')\n",
        "  plt.xlim((-2, 2))\n",
        "  plt.ylim((-2, 2))\n",
        "  plt.grid()"
      ],
      "metadata": {
        "id": "jAtDYFZquVhl"
      },
      "execution_count": null,
      "outputs": []
    },
    {
      "cell_type": "code",
      "source": [
        "show_zp(zeros, poles, title='Polos y Ceros')#gráfica polos y ceros"
      ],
      "metadata": {
        "id": "Oxm7yLw1uY6o"
      },
      "execution_count": null,
      "outputs": []
    },
    {
      "cell_type": "code",
      "source": [
        "plot_freq_response('Butterworth', w, h, N) #gráfica de bode del filtro"
      ],
      "metadata": {
        "id": "PlDP9eqsucm5"
      },
      "execution_count": null,
      "outputs": []
    },
    {
      "cell_type": "markdown",
      "source": [
        "Aplicación del filtro a la canción"
      ],
      "metadata": {
        "id": "I49SQC9Eue3v"
      }
    },
    {
      "cell_type": "code",
      "source": [
        "out='ba'\n",
        "num, den = butter(N, Wn, btype=filt, output=out, fs=fs)\n",
        "xf = lfilter(num, den, d, axis=0)\n",
        "Audio(xf,rate=fs) #Audio con ruido filtrado"
      ],
      "metadata": {
        "id": "9gBCL06Tuh5O"
      },
      "execution_count": null,
      "outputs": []
    },
    {
      "cell_type": "markdown",
      "source": [
        "Comparación"
      ],
      "metadata": {
        "id": "pRMV9F0eum3M"
      }
    },
    {
      "cell_type": "code",
      "source": [
        "from google.colab import files\n",
        "import joblib\n",
        "\n",
        "# Subir el archivo pop_vs_metal.pkl\n",
        "uploaded = files.upload()\n",
        "\n",
        "# Cargar el archivo usando joblib\n",
        "data = joblib.load(next(iter(uploaded.keys())))"
      ],
      "metadata": {
        "id": "YHq83sQvurzT"
      },
      "execution_count": null,
      "outputs": []
    },
    {
      "cell_type": "code",
      "source": [
        "# Revisar las claves y partes del contenido\n",
        "print(data.keys())"
      ],
      "metadata": {
        "id": "6VhCAlaQuvod"
      },
      "execution_count": null,
      "outputs": []
    },
    {
      "cell_type": "code",
      "source": [
        "import os\n",
        "import streamlit as st\n",
        "import numpy as np\n",
        "import gdown\n",
        "import joblib\n",
        "from google.colab import files\n",
        "# Crear la carpeta \"modelo\" si no existe\n",
        "if not os.path.exists('modelo'):\n",
        "    os.makedirs('modelo')\n",
        "\n",
        "# Ruta del modelo\n",
        "modelo_path = 'modelo/pop_vs_metal.pkl'\n",
        "\n",
        "# Cargar el modelo\n",
        "loaded_model = joblib.load(modelo_path)\n",
        "\n",
        "# Verificación del cargue del modelo\n",
        "st.write(\"Modelo cargado con éxito.\")\n",
        "st.write(loaded_model.keys())\n",
        "\n",
        "def normalizar_espectro(espectro):\n",
        "    return espectro / np.linalg.norm(espectro)\n",
        "\n",
        "def detectar_genero(audio_mono, modelo):\n",
        "    #cargar variables del modelo\n",
        "    Xw_ = modelo['Xw_']  #base de datos de espectros\n",
        "    label = modelo['label']  #géneros de las canciones\n",
        "\n",
        "    #calcular la rfft del nuevo registro (Xfn)\n",
        "    Xfn = np.abs(np.fft.rfft(audio_mono))\n",
        "\n",
        "    #verificar dimensiones\n",
        "    print(f\"Dimensiones de Xfn (nueva canción): {Xfn.shape}\")\n",
        "    print(f\"Dimensiones de Xw_ (base de datos): {Xw_.shape}\")\n",
        "\n",
        "    #normalizar espectros\n",
        "    Xfn_normalizado = normalizar_espectro(Xfn)\n",
        "\n",
        "    # Calculate Xw_normalizado before the if statement\n",
        "    Xw_normalizado = np.array([normalizar_espectro(x) for x in Xw_])\n",
        "\n",
        "    if Xfn_normalizado.shape[0] > Xw_normalizado.shape[1]:\n",
        "        Xfn_normalizado = Xfn_normalizado[:Xw_normalizado.shape[1]]\n",
        "    else:\n",
        "        Xfn_normalizado = np.pad(Xfn_normalizado, (0, Xw_normalizado.shape[1] - Xfn_normalizado.shape[0]), 'constant')\n",
        "    Xfn_normalizado = Xfn_normalizado.reshape(1, -1)\n",
        "\n",
        "    #calcular la distancia usando los espectros normalizados\n",
        "    distancias = np.linalg.norm(Xw_normalizado - Xfn_normalizado, axis=1)\n",
        "\n",
        "    # Mostrar distancias\n",
        "    #print(f\"Distancias calculadas: {distancias}\")\n",
        "\n",
        "    #encontrar el índice de la distancia mínima\n",
        "    indice_minimo = np.argmin(distancias)\n",
        "\n",
        "    #detectar el género correspondiente (1: Pop, 2:Metal )\n",
        "    genero_detectado = label[indice_minimo]\n",
        "    cancion_parecida = modelo['name_c'][indice_minimo]\n",
        "\n",
        "    return genero_detectado, cancion_parecida\n",
        "\n",
        "#ejecutar la función de detección\n",
        "genero, cancion_parecida = detectar_genero(audio_mono, data)\n",
        "\n",
        "st.markdown(\"## Genero detectado de la canción demodulada y filtrada\")\n",
        "\n",
        "#mostrar el género detectado y la canción más parecida\n",
        "if genero == 1:\n",
        "    print(f\"El género detectado es: Clásica, Canción más parecida: {cancion_parecida}\")\n",
        "elif genero == 2:\n",
        "    print(f\"El género detectado es: Metal, Canción más parecida: {cancion_parecida}\")"
      ],
      "metadata": {
        "id": "3Vni79Z8u3Kh"
      },
      "execution_count": null,
      "outputs": []
    }
  ]
}