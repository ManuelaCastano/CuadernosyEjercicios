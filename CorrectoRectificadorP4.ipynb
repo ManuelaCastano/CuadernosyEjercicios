{
  "nbformat": 4,
  "nbformat_minor": 0,
  "metadata": {
    "colab": {
      "provenance": [],
      "include_colab_link": true
    },
    "kernelspec": {
      "name": "python3",
      "display_name": "Python 3"
    },
    "language_info": {
      "name": "python"
    }
  },
  "cells": [
    {
      "cell_type": "markdown",
      "metadata": {
        "id": "view-in-github",
        "colab_type": "text"
      },
      "source": [
        "<a href=\"https://colab.research.google.com/github/ManuelaCastano/CuadernosyEjercicios/blob/main/CorrectoRectificadorP4.ipynb\" target=\"_parent\"><img src=\"https://colab.research.google.com/assets/colab-badge.svg\" alt=\"Open In Colab\"/></a>"
      ]
    },
    {
      "cell_type": "markdown",
      "source": [
        "# PUNTO 4\n",
        "\n"
      ],
      "metadata": {
        "id": "xrrl4ooxic8V"
      }
    },
    {
      "cell_type": "code",
      "execution_count": null,
      "metadata": {
        "colab": {
          "base_uri": "https://localhost:8080/"
        },
        "id": "jITEnDOaicRU",
        "outputId": "10691a3a-0763-4c42-b107-18e7f977684b"
      },
      "outputs": [
        {
          "output_type": "stream",
          "name": "stdout",
          "text": [
            "Requirement already satisfied: numpy in /usr/local/lib/python3.10/dist-packages (1.26.4)\n",
            "Requirement already satisfied: matplotlib in /usr/local/lib/python3.10/dist-packages (3.7.1)\n",
            "Requirement already satisfied: streamlit in /usr/local/lib/python3.10/dist-packages (1.38.0)\n",
            "Requirement already satisfied: pyngrok in /usr/local/lib/python3.10/dist-packages (7.2.0)\n",
            "Requirement already satisfied: contourpy>=1.0.1 in /usr/local/lib/python3.10/dist-packages (from matplotlib) (1.3.0)\n",
            "Requirement already satisfied: cycler>=0.10 in /usr/local/lib/python3.10/dist-packages (from matplotlib) (0.12.1)\n",
            "Requirement already satisfied: fonttools>=4.22.0 in /usr/local/lib/python3.10/dist-packages (from matplotlib) (4.53.1)\n",
            "Requirement already satisfied: kiwisolver>=1.0.1 in /usr/local/lib/python3.10/dist-packages (from matplotlib) (1.4.7)\n",
            "Requirement already satisfied: packaging>=20.0 in /usr/local/lib/python3.10/dist-packages (from matplotlib) (24.1)\n",
            "Requirement already satisfied: pillow>=6.2.0 in /usr/local/lib/python3.10/dist-packages (from matplotlib) (10.4.0)\n",
            "Requirement already satisfied: pyparsing>=2.3.1 in /usr/local/lib/python3.10/dist-packages (from matplotlib) (3.1.4)\n",
            "Requirement already satisfied: python-dateutil>=2.7 in /usr/local/lib/python3.10/dist-packages (from matplotlib) (2.8.2)\n",
            "Requirement already satisfied: altair<6,>=4.0 in /usr/local/lib/python3.10/dist-packages (from streamlit) (4.2.2)\n",
            "Requirement already satisfied: blinker<2,>=1.0.0 in /usr/lib/python3/dist-packages (from streamlit) (1.4)\n",
            "Requirement already satisfied: cachetools<6,>=4.0 in /usr/local/lib/python3.10/dist-packages (from streamlit) (5.5.0)\n",
            "Requirement already satisfied: click<9,>=7.0 in /usr/local/lib/python3.10/dist-packages (from streamlit) (8.1.7)\n",
            "Requirement already satisfied: pandas<3,>=1.3.0 in /usr/local/lib/python3.10/dist-packages (from streamlit) (2.1.4)\n",
            "Requirement already satisfied: protobuf<6,>=3.20 in /usr/local/lib/python3.10/dist-packages (from streamlit) (3.20.3)\n",
            "Requirement already satisfied: pyarrow>=7.0 in /usr/local/lib/python3.10/dist-packages (from streamlit) (14.0.2)\n",
            "Requirement already satisfied: requests<3,>=2.27 in /usr/local/lib/python3.10/dist-packages (from streamlit) (2.32.3)\n",
            "Requirement already satisfied: rich<14,>=10.14.0 in /usr/local/lib/python3.10/dist-packages (from streamlit) (13.8.1)\n",
            "Requirement already satisfied: tenacity<9,>=8.1.0 in /usr/local/lib/python3.10/dist-packages (from streamlit) (8.5.0)\n",
            "Requirement already satisfied: toml<2,>=0.10.1 in /usr/local/lib/python3.10/dist-packages (from streamlit) (0.10.2)\n",
            "Requirement already satisfied: typing-extensions<5,>=4.3.0 in /usr/local/lib/python3.10/dist-packages (from streamlit) (4.12.2)\n",
            "Requirement already satisfied: gitpython!=3.1.19,<4,>=3.0.7 in /usr/local/lib/python3.10/dist-packages (from streamlit) (3.1.43)\n",
            "Requirement already satisfied: pydeck<1,>=0.8.0b4 in /usr/local/lib/python3.10/dist-packages (from streamlit) (0.9.1)\n",
            "Requirement already satisfied: tornado<7,>=6.0.3 in /usr/local/lib/python3.10/dist-packages (from streamlit) (6.3.3)\n",
            "Requirement already satisfied: watchdog<5,>=2.1.5 in /usr/local/lib/python3.10/dist-packages (from streamlit) (4.0.2)\n",
            "Requirement already satisfied: PyYAML>=5.1 in /usr/local/lib/python3.10/dist-packages (from pyngrok) (6.0.2)\n",
            "Requirement already satisfied: entrypoints in /usr/local/lib/python3.10/dist-packages (from altair<6,>=4.0->streamlit) (0.4)\n",
            "Requirement already satisfied: jinja2 in /usr/local/lib/python3.10/dist-packages (from altair<6,>=4.0->streamlit) (3.1.4)\n",
            "Requirement already satisfied: jsonschema>=3.0 in /usr/local/lib/python3.10/dist-packages (from altair<6,>=4.0->streamlit) (4.23.0)\n",
            "Requirement already satisfied: toolz in /usr/local/lib/python3.10/dist-packages (from altair<6,>=4.0->streamlit) (0.12.1)\n",
            "Requirement already satisfied: gitdb<5,>=4.0.1 in /usr/local/lib/python3.10/dist-packages (from gitpython!=3.1.19,<4,>=3.0.7->streamlit) (4.0.11)\n",
            "Requirement already satisfied: pytz>=2020.1 in /usr/local/lib/python3.10/dist-packages (from pandas<3,>=1.3.0->streamlit) (2024.2)\n",
            "Requirement already satisfied: tzdata>=2022.1 in /usr/local/lib/python3.10/dist-packages (from pandas<3,>=1.3.0->streamlit) (2024.1)\n",
            "Requirement already satisfied: six>=1.5 in /usr/local/lib/python3.10/dist-packages (from python-dateutil>=2.7->matplotlib) (1.16.0)\n",
            "Requirement already satisfied: charset-normalizer<4,>=2 in /usr/local/lib/python3.10/dist-packages (from requests<3,>=2.27->streamlit) (3.3.2)\n",
            "Requirement already satisfied: idna<4,>=2.5 in /usr/local/lib/python3.10/dist-packages (from requests<3,>=2.27->streamlit) (3.10)\n",
            "Requirement already satisfied: urllib3<3,>=1.21.1 in /usr/local/lib/python3.10/dist-packages (from requests<3,>=2.27->streamlit) (2.2.3)\n",
            "Requirement already satisfied: certifi>=2017.4.17 in /usr/local/lib/python3.10/dist-packages (from requests<3,>=2.27->streamlit) (2024.8.30)\n",
            "Requirement already satisfied: markdown-it-py>=2.2.0 in /usr/local/lib/python3.10/dist-packages (from rich<14,>=10.14.0->streamlit) (3.0.0)\n",
            "Requirement already satisfied: pygments<3.0.0,>=2.13.0 in /usr/local/lib/python3.10/dist-packages (from rich<14,>=10.14.0->streamlit) (2.18.0)\n",
            "Requirement already satisfied: smmap<6,>=3.0.1 in /usr/local/lib/python3.10/dist-packages (from gitdb<5,>=4.0.1->gitpython!=3.1.19,<4,>=3.0.7->streamlit) (5.0.1)\n",
            "Requirement already satisfied: MarkupSafe>=2.0 in /usr/local/lib/python3.10/dist-packages (from jinja2->altair<6,>=4.0->streamlit) (2.1.5)\n",
            "Requirement already satisfied: attrs>=22.2.0 in /usr/local/lib/python3.10/dist-packages (from jsonschema>=3.0->altair<6,>=4.0->streamlit) (24.2.0)\n",
            "Requirement already satisfied: jsonschema-specifications>=2023.03.6 in /usr/local/lib/python3.10/dist-packages (from jsonschema>=3.0->altair<6,>=4.0->streamlit) (2023.12.1)\n",
            "Requirement already satisfied: referencing>=0.28.4 in /usr/local/lib/python3.10/dist-packages (from jsonschema>=3.0->altair<6,>=4.0->streamlit) (0.35.1)\n",
            "Requirement already satisfied: rpds-py>=0.7.1 in /usr/local/lib/python3.10/dist-packages (from jsonschema>=3.0->altair<6,>=4.0->streamlit) (0.20.0)\n",
            "Requirement already satisfied: mdurl~=0.1 in /usr/local/lib/python3.10/dist-packages (from markdown-it-py>=2.2.0->rich<14,>=10.14.0->streamlit) (0.1.2)\n"
          ]
        }
      ],
      "source": [
        "!pip install numpy matplotlib streamlit pyngrok\n"
      ]
    },
    {
      "cell_type": "code",
      "source": [
        "%%writefile rectificador.py\n",
        "\n",
        "#importamos las librerías necesarias\n",
        "import numpy as np\n",
        "import scipy.signal as sig\n",
        "import matplotlib.pyplot as plt\n",
        "import streamlit as st\n",
        "import sympy as sym\n",
        "\n",
        "# Configurar la página de Streamlit\n",
        "st.set_page_config(page_title=\"Rectificador\", layout=\"centered\")\n",
        "\n",
        "st.title(\"Cálculo del THD y la Distorsión del Factor de Potencia en un Rectificador de Onda Completa\")\n",
        "\n",
        "\n",
        "# Parámetros de simulación ajustables\n",
        "A = st.number_input('Amplitud de entrada (A)', value=120, step=10)\n",
        "Fo = st.number_input('Frecuencia de entrada (Fo) en Hz', value=60, step=10)\n",
        "\n",
        "# Parámetros de simulación\n",
        "Fs = 30 * Fo  # Frecuencia de muestreo\n",
        "To = 1 / Fo   # Periodo fundamental\n",
        "Ts = 1 / Fs   # Periodo de muestreo\n",
        "t = np.arange(0, 6 * To, Ts)  # Simulando 5 periodos\n",
        "tau = None\n",
        "# Selección del circuito: solo resistivo o resistivo-capacitivo\n",
        "circuito = st.selectbox(\"Elija el tipo de circuito:\", [\"Resistivo Puro\", \"Resistivo-Capacitivo\"])\n",
        "\n",
        "# Parámetros del circuito\n",
        "if circuito == \"Resistivo Puro\":\n",
        "    st.write(\"\"\"\n",
        "    En este caso, se analizará el comportamiento de un rectificador de onda completa cuando la carga es solo una resistencia. Esto nos dará una referencia de cómo se comporta el sistema con la configuración más simple.\n",
        "    \"\"\") # st. esto lo muestra en el dashboard\n",
        "    R_v = st.number_input('Resistencia (R) en ohmios', value=1000, step=100)\n",
        "    C_v = None  # No hay capacitancia en el circuito resistivo\n",
        "    tau = R_v  # En el caso resistivo, el tiempo de respuesta depende solo de la resistencia\n",
        "else:\n",
        "    st.write(\"\"\"\n",
        "    Cuando la carga es un circuito *RC (resistencia y capacitancia en serie)*, el comportamiento cambia debido al almacenamiento de energía en el condensador. El condensador suaviza la señal rectificada, lo que modifica tanto el contenido armónico como el factor de potencia.\n",
        "\n",
        "    En esta simulación, se permite al usuario variar los valores de *R* y *C* para observar cómo estos afectan tanto el *THD* como la *distorsión del factor de potencia*.\n",
        "    \"\"\")\n",
        "    R_v = st.number_input('Resistencia (R) en ohmios', value=1000, step=100)\n",
        "    C_v = st.number_input('Capacitancia (C) en faradios', value=10e-6, format=\"%.2e\",step=10e-6)\n",
        "    tau = R_v * C_v  # En el circuito RC, el tiempo de respuesta depende de R y C ##\n",
        "\n",
        "# Función de entrada: señal senoidal rectificada completa\n",
        "in_o = A * np.sin(2 * np.pi * Fo * t) #Señal sinosoidal de alimentación\n",
        "in_ = abs(in_o) # Entrada rectificada completa\n",
        "\n",
        "# Cálculo de la respuesta del circuito\n",
        "if C_v is None:  # Solo resistivo\n",
        "    st.write(\"\"\"\n",
        "    En una carga resistiva, el contenido armónico es más elevado, ya que la resistencia no tiene la capacidad de filtrar los picos de corriente. El *THD* será generalmente más alto, pero el *factor de potencia* tiende a ser cercano a 1, ya que no hay energía reactiva involucrada.\n",
        "    \"\"\")\n",
        "    out = in_   # Respuesta del circuito resistivo\n",
        "else:\n",
        "  # Función de transferencia para el circuito RC\n",
        "\n",
        "  #out = sig.lfilter(num, den, in_)  # Salida del circuito RC usando scipy.signal.lfilter\n",
        "  st.write(\"\"\"\n",
        "  Al introducir una capacitancia en la carga, la señal de salida será más suave debido al filtrado que proporciona el condensador. Esto reduce el contenido armónico, disminuyendo el *THD. Sin embargo, la presencia de la capacitancia también introduce energía reactiva, lo que puede reducir el **factor de potencia*.\n",
        "  \"\"\")\n",
        "  s = sym.symbols('s', complex=True)\n",
        "  to, R, L, C = sym.symbols('t R L C', positive=True)\n",
        "  X = sym.Function('X')(s)\n",
        "  Y = 1/(R*C*s + 1) * X\n",
        "\n",
        "  to=t\n",
        "\n",
        "  Y_RC = Y.subs(R, R_v).subs(C, C_v)\n",
        "\n",
        "  num = np.array([1])  # Numerador\n",
        "  den = np.array([R_v * C_v, 1])  # Denominador\n",
        "  G_n = sig.TransferFunction(num, den)\n",
        "\n",
        "  out = G_n.output(in_, T=to)[1]\n",
        "\n",
        "# Mostrar gráficos en Streamlit\n",
        "st.write(f\"### Señal de Alimentación ({circuito})\")\n",
        "st.line_chart(in_o)\n",
        "\n",
        "st.write(f\"### Señal Rectificada y Salida del Circuito ({circuito})\")\n",
        "fig, ax = plt.subplots()\n",
        "plt.plot(t, in_, label='Entrada (In)')\n",
        "plt.plot(t, out, label='Salida (Out)')\n",
        "plt.xlabel('Tiempo [s]')\n",
        "plt.ylabel('Voltaje [V]')\n",
        "plt.legend()\n",
        "#plt.show()\n",
        "st.pyplot(fig)\n",
        "\n",
        "# Cálculo del espectro de frecuencias (FFT)\n",
        "vfre = np.fft.rfftfreq(len(out), 1 / Fs)\n",
        "Xf = np.fft.rfft(out)\n",
        "\n",
        "st.write(\"### Espectro de Frecuencias de la Salida (FFT)\")\n",
        "fig, ax = plt.subplots()\n",
        "ax.stem(vfre, np.abs(Xf) / len(out), use_line_collection=True)\n",
        "ax.set_xlabel('Frecuencia [Hz]')\n",
        "ax.set_ylabel('|X(f)|')\n",
        "st.pyplot(fig)\n",
        "\n",
        "# Cálculo del THD\n",
        "def calculate_thd(signal):\n",
        "    N = len(signal)\n",
        "    Y = np.fft.rfft(signal)\n",
        "    Y = 2.0 / N * np.abs(Y[:N // 2])\n",
        "    fundamental = Y[1]  # Fundamental está en la posición 1 (no 0 debido al DC)\n",
        "    harmonics = np.sqrt(np.sum(Y[2:]**2))  # Suma de las componentes armónicas\n",
        "    THD = harmonics / fundamental\n",
        "    return THD\n",
        "\n",
        "THD = calculate_thd(out)\n",
        "st.write(f\"### THD (Distorsión Armónica Total) para el circuito {circuito}: {THD:.2%}\")\n",
        "\n",
        "# Cálculo del factor de potencia (FP)\n",
        "def calculate_power_factor(THD):\n",
        "  return np.sqrt(1/(1 + THD**2))\n",
        "\n",
        "FP = calculate_power_factor(THD)\n",
        "st.write(f\"### Factor de Potencia para el circuito {circuito}: {FP:.2f}\")"
      ],
      "metadata": {
        "id": "Msy6EwukDpvw",
        "outputId": "0d5a0ed7-3728-4137-a474-65107fa7054f",
        "colab": {
          "base_uri": "https://localhost:8080/"
        }
      },
      "execution_count": null,
      "outputs": [
        {
          "output_type": "stream",
          "name": "stdout",
          "text": [
            "Overwriting rectificador.py\n"
          ]
        }
      ]
    },
    {
      "cell_type": "code",
      "source": [
        "token = '2lLjOWkqRYefTOvPNoWEGk7ILtC_sTA7Yw6363v3jvkDjZ3P' #colocar aquí su token personal después de crear su cuenta con correo UNAL en Ngrok"
      ],
      "metadata": {
        "id": "G-Opx95Xitb8"
      },
      "execution_count": null,
      "outputs": []
    },
    {
      "cell_type": "code",
      "source": [
        "from pyngrok import ngrok\n",
        "\n",
        "# Set authentication token (unique per user)\n",
        "ngrok.set_auth_token(token)\n",
        "\n",
        "# Start Streamlit server on a specific port\n",
        "!nohup streamlit run rectificador.py --server.port 9600 &\n",
        "\n",
        "# Start ngrok tunnel to expose the Streamlit server\n",
        "ngrok_tunnel = ngrok.connect(addr='9600', proto='http', bind_tls=True)\n",
        "\n",
        "# Print the URL of the ngrok tunnel\n",
        "print(' * Tunnel URL:', ngrok_tunnel.public_url)"
      ],
      "metadata": {
        "colab": {
          "base_uri": "https://localhost:8080/"
        },
        "id": "Z9MRPhwSjdre",
        "outputId": "6435ceec-5e0f-4eaa-d4eb-cae3e3919fab"
      },
      "execution_count": null,
      "outputs": [
        {
          "output_type": "stream",
          "name": "stdout",
          "text": [
            "nohup: appending output to 'nohup.out'\n",
            " * Tunnel URL: https://0733-34-106-11-154.ngrok-free.app\n"
          ]
        }
      ]
    },
    {
      "cell_type": "code",
      "source": [
        "#exit(\"Stopping the execution\")"
      ],
      "metadata": {
        "id": "g6t0WEqpjvxj"
      },
      "execution_count": null,
      "outputs": []
    }
  ]
}